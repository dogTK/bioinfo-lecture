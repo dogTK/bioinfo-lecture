{
  "nbformat": 4,
  "nbformat_minor": 0,
  "metadata": {
    "colab": {
      "provenance": [],
      "machine_shape": "hm",
      "include_colab_link": true
    },
    "kernelspec": {
      "name": "python3",
      "display_name": "Python 3"
    },
    "language_info": {
      "name": "python"
    },
    "widgets": {
      "application/vnd.jupyter.widget-state+json": {
        "20779667a6134a50975d4bc8bcf6f2f0": {
          "model_module": "@jupyter-widgets/controls",
          "model_name": "HBoxModel",
          "model_module_version": "1.5.0",
          "state": {
            "_dom_classes": [],
            "_model_module": "@jupyter-widgets/controls",
            "_model_module_version": "1.5.0",
            "_model_name": "HBoxModel",
            "_view_count": null,
            "_view_module": "@jupyter-widgets/controls",
            "_view_module_version": "1.5.0",
            "_view_name": "HBoxView",
            "box_style": "",
            "children": [
              "IPY_MODEL_24c5aae059874a3ea3383a243c00a179",
              "IPY_MODEL_24bb6bcc697d4c659fee79ac6ac4d4c7",
              "IPY_MODEL_4df00f4a2f0145cb9a343aed472fcb72"
            ],
            "layout": "IPY_MODEL_d3503fcd524a4f959acb53abd1d8e853"
          }
        },
        "24c5aae059874a3ea3383a243c00a179": {
          "model_module": "@jupyter-widgets/controls",
          "model_name": "HTMLModel",
          "model_module_version": "1.5.0",
          "state": {
            "_dom_classes": [],
            "_model_module": "@jupyter-widgets/controls",
            "_model_module_version": "1.5.0",
            "_model_name": "HTMLModel",
            "_view_count": null,
            "_view_module": "@jupyter-widgets/controls",
            "_view_module_version": "1.5.0",
            "_view_name": "HTMLView",
            "description": "",
            "description_tooltip": null,
            "layout": "IPY_MODEL_4d6823f3c0864178823bb2bce883bc8f",
            "placeholder": "​",
            "style": "IPY_MODEL_b983abd4b90f47dbbde7f3638443a1f7",
            "value": ""
          }
        },
        "24bb6bcc697d4c659fee79ac6ac4d4c7": {
          "model_module": "@jupyter-widgets/controls",
          "model_name": "FloatProgressModel",
          "model_module_version": "1.5.0",
          "state": {
            "_dom_classes": [],
            "_model_module": "@jupyter-widgets/controls",
            "_model_module_version": "1.5.0",
            "_model_name": "FloatProgressModel",
            "_view_count": null,
            "_view_module": "@jupyter-widgets/controls",
            "_view_module_version": "1.5.0",
            "_view_name": "ProgressView",
            "bar_style": "success",
            "description": "",
            "description_tooltip": null,
            "layout": "IPY_MODEL_78cddd09a727462c867e38d0c43e4db5",
            "max": 1,
            "min": 0,
            "orientation": "horizontal",
            "style": "IPY_MODEL_bad2b65fa95f4ba6b800ce6a51237931",
            "value": 1
          }
        },
        "4df00f4a2f0145cb9a343aed472fcb72": {
          "model_module": "@jupyter-widgets/controls",
          "model_name": "HTMLModel",
          "model_module_version": "1.5.0",
          "state": {
            "_dom_classes": [],
            "_model_module": "@jupyter-widgets/controls",
            "_model_module_version": "1.5.0",
            "_model_name": "HTMLModel",
            "_view_count": null,
            "_view_module": "@jupyter-widgets/controls",
            "_view_module_version": "1.5.0",
            "_view_name": "HTMLView",
            "description": "",
            "description_tooltip": null,
            "layout": "IPY_MODEL_f26b0580ca064f5da2307123824dc50d",
            "placeholder": "​",
            "style": "IPY_MODEL_03e781147e2d4ea2a33d5d529ef9d99e",
            "value": " 56.5k/? [00:00&lt;00:00, 587kB/s]"
          }
        },
        "d3503fcd524a4f959acb53abd1d8e853": {
          "model_module": "@jupyter-widgets/base",
          "model_name": "LayoutModel",
          "model_module_version": "1.2.0",
          "state": {
            "_model_module": "@jupyter-widgets/base",
            "_model_module_version": "1.2.0",
            "_model_name": "LayoutModel",
            "_view_count": null,
            "_view_module": "@jupyter-widgets/base",
            "_view_module_version": "1.2.0",
            "_view_name": "LayoutView",
            "align_content": null,
            "align_items": null,
            "align_self": null,
            "border": null,
            "bottom": null,
            "display": null,
            "flex": null,
            "flex_flow": null,
            "grid_area": null,
            "grid_auto_columns": null,
            "grid_auto_flow": null,
            "grid_auto_rows": null,
            "grid_column": null,
            "grid_gap": null,
            "grid_row": null,
            "grid_template_areas": null,
            "grid_template_columns": null,
            "grid_template_rows": null,
            "height": null,
            "justify_content": null,
            "justify_items": null,
            "left": null,
            "margin": null,
            "max_height": null,
            "max_width": null,
            "min_height": null,
            "min_width": null,
            "object_fit": null,
            "object_position": null,
            "order": null,
            "overflow": null,
            "overflow_x": null,
            "overflow_y": null,
            "padding": null,
            "right": null,
            "top": null,
            "visibility": null,
            "width": null
          }
        },
        "4d6823f3c0864178823bb2bce883bc8f": {
          "model_module": "@jupyter-widgets/base",
          "model_name": "LayoutModel",
          "model_module_version": "1.2.0",
          "state": {
            "_model_module": "@jupyter-widgets/base",
            "_model_module_version": "1.2.0",
            "_model_name": "LayoutModel",
            "_view_count": null,
            "_view_module": "@jupyter-widgets/base",
            "_view_module_version": "1.2.0",
            "_view_name": "LayoutView",
            "align_content": null,
            "align_items": null,
            "align_self": null,
            "border": null,
            "bottom": null,
            "display": null,
            "flex": null,
            "flex_flow": null,
            "grid_area": null,
            "grid_auto_columns": null,
            "grid_auto_flow": null,
            "grid_auto_rows": null,
            "grid_column": null,
            "grid_gap": null,
            "grid_row": null,
            "grid_template_areas": null,
            "grid_template_columns": null,
            "grid_template_rows": null,
            "height": null,
            "justify_content": null,
            "justify_items": null,
            "left": null,
            "margin": null,
            "max_height": null,
            "max_width": null,
            "min_height": null,
            "min_width": null,
            "object_fit": null,
            "object_position": null,
            "order": null,
            "overflow": null,
            "overflow_x": null,
            "overflow_y": null,
            "padding": null,
            "right": null,
            "top": null,
            "visibility": null,
            "width": null
          }
        },
        "b983abd4b90f47dbbde7f3638443a1f7": {
          "model_module": "@jupyter-widgets/controls",
          "model_name": "DescriptionStyleModel",
          "model_module_version": "1.5.0",
          "state": {
            "_model_module": "@jupyter-widgets/controls",
            "_model_module_version": "1.5.0",
            "_model_name": "DescriptionStyleModel",
            "_view_count": null,
            "_view_module": "@jupyter-widgets/base",
            "_view_module_version": "1.2.0",
            "_view_name": "StyleView",
            "description_width": ""
          }
        },
        "78cddd09a727462c867e38d0c43e4db5": {
          "model_module": "@jupyter-widgets/base",
          "model_name": "LayoutModel",
          "model_module_version": "1.2.0",
          "state": {
            "_model_module": "@jupyter-widgets/base",
            "_model_module_version": "1.2.0",
            "_model_name": "LayoutModel",
            "_view_count": null,
            "_view_module": "@jupyter-widgets/base",
            "_view_module_version": "1.2.0",
            "_view_name": "LayoutView",
            "align_content": null,
            "align_items": null,
            "align_self": null,
            "border": null,
            "bottom": null,
            "display": null,
            "flex": null,
            "flex_flow": null,
            "grid_area": null,
            "grid_auto_columns": null,
            "grid_auto_flow": null,
            "grid_auto_rows": null,
            "grid_column": null,
            "grid_gap": null,
            "grid_row": null,
            "grid_template_areas": null,
            "grid_template_columns": null,
            "grid_template_rows": null,
            "height": null,
            "justify_content": null,
            "justify_items": null,
            "left": null,
            "margin": null,
            "max_height": null,
            "max_width": null,
            "min_height": null,
            "min_width": null,
            "object_fit": null,
            "object_position": null,
            "order": null,
            "overflow": null,
            "overflow_x": null,
            "overflow_y": null,
            "padding": null,
            "right": null,
            "top": null,
            "visibility": null,
            "width": "20px"
          }
        },
        "bad2b65fa95f4ba6b800ce6a51237931": {
          "model_module": "@jupyter-widgets/controls",
          "model_name": "ProgressStyleModel",
          "model_module_version": "1.5.0",
          "state": {
            "_model_module": "@jupyter-widgets/controls",
            "_model_module_version": "1.5.0",
            "_model_name": "ProgressStyleModel",
            "_view_count": null,
            "_view_module": "@jupyter-widgets/base",
            "_view_module_version": "1.2.0",
            "_view_name": "StyleView",
            "bar_color": null,
            "description_width": ""
          }
        },
        "f26b0580ca064f5da2307123824dc50d": {
          "model_module": "@jupyter-widgets/base",
          "model_name": "LayoutModel",
          "model_module_version": "1.2.0",
          "state": {
            "_model_module": "@jupyter-widgets/base",
            "_model_module_version": "1.2.0",
            "_model_name": "LayoutModel",
            "_view_count": null,
            "_view_module": "@jupyter-widgets/base",
            "_view_module_version": "1.2.0",
            "_view_name": "LayoutView",
            "align_content": null,
            "align_items": null,
            "align_self": null,
            "border": null,
            "bottom": null,
            "display": null,
            "flex": null,
            "flex_flow": null,
            "grid_area": null,
            "grid_auto_columns": null,
            "grid_auto_flow": null,
            "grid_auto_rows": null,
            "grid_column": null,
            "grid_gap": null,
            "grid_row": null,
            "grid_template_areas": null,
            "grid_template_columns": null,
            "grid_template_rows": null,
            "height": null,
            "justify_content": null,
            "justify_items": null,
            "left": null,
            "margin": null,
            "max_height": null,
            "max_width": null,
            "min_height": null,
            "min_width": null,
            "object_fit": null,
            "object_position": null,
            "order": null,
            "overflow": null,
            "overflow_x": null,
            "overflow_y": null,
            "padding": null,
            "right": null,
            "top": null,
            "visibility": null,
            "width": null
          }
        },
        "03e781147e2d4ea2a33d5d529ef9d99e": {
          "model_module": "@jupyter-widgets/controls",
          "model_name": "DescriptionStyleModel",
          "model_module_version": "1.5.0",
          "state": {
            "_model_module": "@jupyter-widgets/controls",
            "_model_module_version": "1.5.0",
            "_model_name": "DescriptionStyleModel",
            "_view_count": null,
            "_view_module": "@jupyter-widgets/base",
            "_view_module_version": "1.2.0",
            "_view_name": "StyleView",
            "description_width": ""
          }
        },
        "a04853b2670c482d9d64e27e831a0645": {
          "model_module": "@jupyter-widgets/controls",
          "model_name": "HBoxModel",
          "model_module_version": "1.5.0",
          "state": {
            "_dom_classes": [],
            "_model_module": "@jupyter-widgets/controls",
            "_model_module_version": "1.5.0",
            "_model_name": "HBoxModel",
            "_view_count": null,
            "_view_module": "@jupyter-widgets/controls",
            "_view_module_version": "1.5.0",
            "_view_name": "HBoxView",
            "box_style": "",
            "children": [
              "IPY_MODEL_7a19f2d2ef4c478db2e818e7ae2e53f5",
              "IPY_MODEL_94729f136cff4965b06621a8adb0db74",
              "IPY_MODEL_cc26cfd392db4e56ae5b378d98a08204"
            ],
            "layout": "IPY_MODEL_c39bd3c5da5946ac88f441650f6ec316"
          }
        },
        "7a19f2d2ef4c478db2e818e7ae2e53f5": {
          "model_module": "@jupyter-widgets/controls",
          "model_name": "HTMLModel",
          "model_module_version": "1.5.0",
          "state": {
            "_dom_classes": [],
            "_model_module": "@jupyter-widgets/controls",
            "_model_module_version": "1.5.0",
            "_model_name": "HTMLModel",
            "_view_count": null,
            "_view_module": "@jupyter-widgets/controls",
            "_view_module_version": "1.5.0",
            "_view_name": "HTMLView",
            "description": "",
            "description_tooltip": null,
            "layout": "IPY_MODEL_f1de50c6735149b2844c59c6758ae19a",
            "placeholder": "​",
            "style": "IPY_MODEL_c523a1bf32a84ea1ac1aba4546714c01",
            "value": ""
          }
        },
        "94729f136cff4965b06621a8adb0db74": {
          "model_module": "@jupyter-widgets/controls",
          "model_name": "FloatProgressModel",
          "model_module_version": "1.5.0",
          "state": {
            "_dom_classes": [],
            "_model_module": "@jupyter-widgets/controls",
            "_model_module_version": "1.5.0",
            "_model_name": "FloatProgressModel",
            "_view_count": null,
            "_view_module": "@jupyter-widgets/controls",
            "_view_module_version": "1.5.0",
            "_view_name": "ProgressView",
            "bar_style": "success",
            "description": "",
            "description_tooltip": null,
            "layout": "IPY_MODEL_f4594454a37d40e5a0c1114d98e5ba4c",
            "max": 1,
            "min": 0,
            "orientation": "horizontal",
            "style": "IPY_MODEL_ce5788979a76400eb3077d0d6485fb64",
            "value": 1
          }
        },
        "cc26cfd392db4e56ae5b378d98a08204": {
          "model_module": "@jupyter-widgets/controls",
          "model_name": "HTMLModel",
          "model_module_version": "1.5.0",
          "state": {
            "_dom_classes": [],
            "_model_module": "@jupyter-widgets/controls",
            "_model_module_version": "1.5.0",
            "_model_name": "HTMLModel",
            "_view_count": null,
            "_view_module": "@jupyter-widgets/controls",
            "_view_module_version": "1.5.0",
            "_view_name": "HTMLView",
            "description": "",
            "description_tooltip": null,
            "layout": "IPY_MODEL_2a9c11b041064300b4701903c23ba027",
            "placeholder": "​",
            "style": "IPY_MODEL_2bece4dba44442e5b9e2023c2b4a9819",
            "value": " 5.91M/? [00:00&lt;00:00, 13.1MB/s]"
          }
        },
        "c39bd3c5da5946ac88f441650f6ec316": {
          "model_module": "@jupyter-widgets/base",
          "model_name": "LayoutModel",
          "model_module_version": "1.2.0",
          "state": {
            "_model_module": "@jupyter-widgets/base",
            "_model_module_version": "1.2.0",
            "_model_name": "LayoutModel",
            "_view_count": null,
            "_view_module": "@jupyter-widgets/base",
            "_view_module_version": "1.2.0",
            "_view_name": "LayoutView",
            "align_content": null,
            "align_items": null,
            "align_self": null,
            "border": null,
            "bottom": null,
            "display": null,
            "flex": null,
            "flex_flow": null,
            "grid_area": null,
            "grid_auto_columns": null,
            "grid_auto_flow": null,
            "grid_auto_rows": null,
            "grid_column": null,
            "grid_gap": null,
            "grid_row": null,
            "grid_template_areas": null,
            "grid_template_columns": null,
            "grid_template_rows": null,
            "height": null,
            "justify_content": null,
            "justify_items": null,
            "left": null,
            "margin": null,
            "max_height": null,
            "max_width": null,
            "min_height": null,
            "min_width": null,
            "object_fit": null,
            "object_position": null,
            "order": null,
            "overflow": null,
            "overflow_x": null,
            "overflow_y": null,
            "padding": null,
            "right": null,
            "top": null,
            "visibility": null,
            "width": null
          }
        },
        "f1de50c6735149b2844c59c6758ae19a": {
          "model_module": "@jupyter-widgets/base",
          "model_name": "LayoutModel",
          "model_module_version": "1.2.0",
          "state": {
            "_model_module": "@jupyter-widgets/base",
            "_model_module_version": "1.2.0",
            "_model_name": "LayoutModel",
            "_view_count": null,
            "_view_module": "@jupyter-widgets/base",
            "_view_module_version": "1.2.0",
            "_view_name": "LayoutView",
            "align_content": null,
            "align_items": null,
            "align_self": null,
            "border": null,
            "bottom": null,
            "display": null,
            "flex": null,
            "flex_flow": null,
            "grid_area": null,
            "grid_auto_columns": null,
            "grid_auto_flow": null,
            "grid_auto_rows": null,
            "grid_column": null,
            "grid_gap": null,
            "grid_row": null,
            "grid_template_areas": null,
            "grid_template_columns": null,
            "grid_template_rows": null,
            "height": null,
            "justify_content": null,
            "justify_items": null,
            "left": null,
            "margin": null,
            "max_height": null,
            "max_width": null,
            "min_height": null,
            "min_width": null,
            "object_fit": null,
            "object_position": null,
            "order": null,
            "overflow": null,
            "overflow_x": null,
            "overflow_y": null,
            "padding": null,
            "right": null,
            "top": null,
            "visibility": null,
            "width": null
          }
        },
        "c523a1bf32a84ea1ac1aba4546714c01": {
          "model_module": "@jupyter-widgets/controls",
          "model_name": "DescriptionStyleModel",
          "model_module_version": "1.5.0",
          "state": {
            "_model_module": "@jupyter-widgets/controls",
            "_model_module_version": "1.5.0",
            "_model_name": "DescriptionStyleModel",
            "_view_count": null,
            "_view_module": "@jupyter-widgets/base",
            "_view_module_version": "1.2.0",
            "_view_name": "StyleView",
            "description_width": ""
          }
        },
        "f4594454a37d40e5a0c1114d98e5ba4c": {
          "model_module": "@jupyter-widgets/base",
          "model_name": "LayoutModel",
          "model_module_version": "1.2.0",
          "state": {
            "_model_module": "@jupyter-widgets/base",
            "_model_module_version": "1.2.0",
            "_model_name": "LayoutModel",
            "_view_count": null,
            "_view_module": "@jupyter-widgets/base",
            "_view_module_version": "1.2.0",
            "_view_name": "LayoutView",
            "align_content": null,
            "align_items": null,
            "align_self": null,
            "border": null,
            "bottom": null,
            "display": null,
            "flex": null,
            "flex_flow": null,
            "grid_area": null,
            "grid_auto_columns": null,
            "grid_auto_flow": null,
            "grid_auto_rows": null,
            "grid_column": null,
            "grid_gap": null,
            "grid_row": null,
            "grid_template_areas": null,
            "grid_template_columns": null,
            "grid_template_rows": null,
            "height": null,
            "justify_content": null,
            "justify_items": null,
            "left": null,
            "margin": null,
            "max_height": null,
            "max_width": null,
            "min_height": null,
            "min_width": null,
            "object_fit": null,
            "object_position": null,
            "order": null,
            "overflow": null,
            "overflow_x": null,
            "overflow_y": null,
            "padding": null,
            "right": null,
            "top": null,
            "visibility": null,
            "width": "20px"
          }
        },
        "ce5788979a76400eb3077d0d6485fb64": {
          "model_module": "@jupyter-widgets/controls",
          "model_name": "ProgressStyleModel",
          "model_module_version": "1.5.0",
          "state": {
            "_model_module": "@jupyter-widgets/controls",
            "_model_module_version": "1.5.0",
            "_model_name": "ProgressStyleModel",
            "_view_count": null,
            "_view_module": "@jupyter-widgets/base",
            "_view_module_version": "1.2.0",
            "_view_name": "StyleView",
            "bar_color": null,
            "description_width": ""
          }
        },
        "2a9c11b041064300b4701903c23ba027": {
          "model_module": "@jupyter-widgets/base",
          "model_name": "LayoutModel",
          "model_module_version": "1.2.0",
          "state": {
            "_model_module": "@jupyter-widgets/base",
            "_model_module_version": "1.2.0",
            "_model_name": "LayoutModel",
            "_view_count": null,
            "_view_module": "@jupyter-widgets/base",
            "_view_module_version": "1.2.0",
            "_view_name": "LayoutView",
            "align_content": null,
            "align_items": null,
            "align_self": null,
            "border": null,
            "bottom": null,
            "display": null,
            "flex": null,
            "flex_flow": null,
            "grid_area": null,
            "grid_auto_columns": null,
            "grid_auto_flow": null,
            "grid_auto_rows": null,
            "grid_column": null,
            "grid_gap": null,
            "grid_row": null,
            "grid_template_areas": null,
            "grid_template_columns": null,
            "grid_template_rows": null,
            "height": null,
            "justify_content": null,
            "justify_items": null,
            "left": null,
            "margin": null,
            "max_height": null,
            "max_width": null,
            "min_height": null,
            "min_width": null,
            "object_fit": null,
            "object_position": null,
            "order": null,
            "overflow": null,
            "overflow_x": null,
            "overflow_y": null,
            "padding": null,
            "right": null,
            "top": null,
            "visibility": null,
            "width": null
          }
        },
        "2bece4dba44442e5b9e2023c2b4a9819": {
          "model_module": "@jupyter-widgets/controls",
          "model_name": "DescriptionStyleModel",
          "model_module_version": "1.5.0",
          "state": {
            "_model_module": "@jupyter-widgets/controls",
            "_model_module_version": "1.5.0",
            "_model_name": "DescriptionStyleModel",
            "_view_count": null,
            "_view_module": "@jupyter-widgets/base",
            "_view_module_version": "1.2.0",
            "_view_name": "StyleView",
            "description_width": ""
          }
        }
      }
    }
  },
  "cells": [
    {
      "cell_type": "markdown",
      "metadata": {
        "id": "view-in-github",
        "colab_type": "text"
      },
      "source": [
        "<a href=\"https://colab.research.google.com/github/dogTK/bioinfo-lecture/blob/colab/Rafael/AnnotateWithPython.ipynb\" target=\"_parent\"><img src=\"https://colab.research.google.com/assets/colab-badge.svg\" alt=\"Open In Colab\"/></a>"
      ]
    },
    {
      "cell_type": "markdown",
      "source": [
        "# git hub"
      ],
      "metadata": {
        "id": "rygkKbQOeW78"
      }
    },
    {
      "cell_type": "markdown",
      "source": [
        "\n",
        "\n",
        "# Do it with Python"
      ],
      "metadata": {
        "id": "R2_l_lIy226E"
      }
    },
    {
      "cell_type": "markdown",
      "source": [
        "## 説明\n",
        "\n",
        "1. 5章で使用したファイルをgoogle driveにおいてAnnDataとして読み込む。\n",
        "2. 遺伝子名が重複しているので、それを取り除く。\n",
        "3. nCount, nFeature, mitochondria RNAの値でfilteringする。\n",
        "> →violin plot\n",
        "4. 正規化し、高変動遺伝子を見つける。\n",
        "> この時点でのAnnDataを保存する。\\\n",
        "→CellTypistにはこれを使う。\n",
        "\n",
        "### Annotationしない場合\n",
        "5. 高変動遺伝子をスケーリング。その後、次元削減して可視化。\n",
        "\n",
        "### CellTypistでAnnotation\n",
        "5. celltypistのモデルをつくり、AnnDataを入力する。\n",
        "6. その後、次元削減して可視化。\n"
      ],
      "metadata": {
        "id": "cGw6OyQKAMuF"
      }
    },
    {
      "cell_type": "markdown",
      "source": [
        "## install"
      ],
      "metadata": {
        "id": "kggzCbxa2w6g"
      }
    },
    {
      "cell_type": "code",
      "source": [],
      "metadata": {
        "id": "f7Sd9F2_2wmg"
      },
      "execution_count": null,
      "outputs": []
    },
    {
      "cell_type": "code",
      "source": [
        "#Annotation\n",
        "!pip install celltypist"
      ],
      "metadata": {
        "colab": {
          "base_uri": "https://localhost:8080/"
        },
        "id": "xwzSkvcUkXHh",
        "outputId": "5c34244d-11f4-47eb-de17-66d0a5dbfe94"
      },
      "execution_count": null,
      "outputs": [
        {
          "output_type": "stream",
          "name": "stdout",
          "text": [
            "Requirement already satisfied: celltypist in /usr/local/lib/python3.10/dist-packages (1.6.3)\n",
            "Requirement already satisfied: numpy>=1.19.0 in /usr/local/lib/python3.10/dist-packages (from celltypist) (1.25.2)\n",
            "Requirement already satisfied: pandas>=1.0.5 in /usr/local/lib/python3.10/dist-packages (from celltypist) (2.2.2)\n",
            "Requirement already satisfied: scikit-learn>=0.24.1 in /usr/local/lib/python3.10/dist-packages (from celltypist) (1.2.2)\n",
            "Requirement already satisfied: openpyxl>=3.0.4 in /usr/local/lib/python3.10/dist-packages (from celltypist) (3.1.5)\n",
            "Requirement already satisfied: click>=7.1.2 in /usr/local/lib/python3.10/dist-packages (from celltypist) (8.1.7)\n",
            "Requirement already satisfied: requests>=2.23.0 in /usr/local/lib/python3.10/dist-packages (from celltypist) (2.31.0)\n",
            "Requirement already satisfied: scanpy>=1.7.0 in /usr/local/lib/python3.10/dist-packages (from celltypist) (1.10.2)\n",
            "Requirement already satisfied: leidenalg>=0.9.0 in /usr/local/lib/python3.10/dist-packages (from celltypist) (0.10.2)\n",
            "Requirement already satisfied: igraph<0.12,>=0.10.0 in /usr/local/lib/python3.10/dist-packages (from leidenalg>=0.9.0->celltypist) (0.11.5)\n",
            "Requirement already satisfied: et-xmlfile in /usr/local/lib/python3.10/dist-packages (from openpyxl>=3.0.4->celltypist) (1.1.0)\n",
            "Requirement already satisfied: python-dateutil>=2.8.2 in /usr/local/lib/python3.10/dist-packages (from pandas>=1.0.5->celltypist) (2.8.2)\n",
            "Requirement already satisfied: pytz>=2020.1 in /usr/local/lib/python3.10/dist-packages (from pandas>=1.0.5->celltypist) (2023.4)\n",
            "Requirement already satisfied: tzdata>=2022.7 in /usr/local/lib/python3.10/dist-packages (from pandas>=1.0.5->celltypist) (2024.1)\n",
            "Requirement already satisfied: charset-normalizer<4,>=2 in /usr/local/lib/python3.10/dist-packages (from requests>=2.23.0->celltypist) (3.3.2)\n",
            "Requirement already satisfied: idna<4,>=2.5 in /usr/local/lib/python3.10/dist-packages (from requests>=2.23.0->celltypist) (3.7)\n",
            "Requirement already satisfied: urllib3<3,>=1.21.1 in /usr/local/lib/python3.10/dist-packages (from requests>=2.23.0->celltypist) (2.0.7)\n",
            "Requirement already satisfied: certifi>=2017.4.17 in /usr/local/lib/python3.10/dist-packages (from requests>=2.23.0->celltypist) (2024.6.2)\n",
            "Requirement already satisfied: anndata>=0.8 in /usr/local/lib/python3.10/dist-packages (from scanpy>=1.7.0->celltypist) (0.10.8)\n",
            "Requirement already satisfied: h5py>=3.1 in /usr/local/lib/python3.10/dist-packages (from scanpy>=1.7.0->celltypist) (3.9.0)\n",
            "Requirement already satisfied: joblib in /usr/local/lib/python3.10/dist-packages (from scanpy>=1.7.0->celltypist) (1.4.2)\n",
            "Requirement already satisfied: legacy-api-wrap>=1.4 in /usr/local/lib/python3.10/dist-packages (from scanpy>=1.7.0->celltypist) (1.4)\n",
            "Requirement already satisfied: matplotlib>=3.6 in /usr/local/lib/python3.10/dist-packages (from scanpy>=1.7.0->celltypist) (3.7.1)\n",
            "Requirement already satisfied: natsort in /usr/local/lib/python3.10/dist-packages (from scanpy>=1.7.0->celltypist) (8.4.0)\n",
            "Requirement already satisfied: networkx>=2.7 in /usr/local/lib/python3.10/dist-packages (from scanpy>=1.7.0->celltypist) (3.3)\n",
            "Requirement already satisfied: numba>=0.56 in /usr/local/lib/python3.10/dist-packages (from scanpy>=1.7.0->celltypist) (0.60.0)\n",
            "Requirement already satisfied: packaging>=21.3 in /usr/local/lib/python3.10/dist-packages (from scanpy>=1.7.0->celltypist) (24.1)\n",
            "Requirement already satisfied: patsy in /usr/local/lib/python3.10/dist-packages (from scanpy>=1.7.0->celltypist) (0.5.6)\n",
            "Requirement already satisfied: pynndescent>=0.5 in /usr/local/lib/python3.10/dist-packages (from scanpy>=1.7.0->celltypist) (0.5.13)\n",
            "Requirement already satisfied: scipy>=1.8 in /usr/local/lib/python3.10/dist-packages (from scanpy>=1.7.0->celltypist) (1.11.4)\n",
            "Requirement already satisfied: seaborn>=0.13 in /usr/local/lib/python3.10/dist-packages (from scanpy>=1.7.0->celltypist) (0.13.1)\n",
            "Requirement already satisfied: session-info in /usr/local/lib/python3.10/dist-packages (from scanpy>=1.7.0->celltypist) (1.0.0)\n",
            "Requirement already satisfied: statsmodels>=0.13 in /usr/local/lib/python3.10/dist-packages (from scanpy>=1.7.0->celltypist) (0.14.2)\n",
            "Requirement already satisfied: tqdm in /usr/local/lib/python3.10/dist-packages (from scanpy>=1.7.0->celltypist) (4.66.4)\n",
            "Requirement already satisfied: umap-learn!=0.5.0,>=0.5 in /usr/local/lib/python3.10/dist-packages (from scanpy>=1.7.0->celltypist) (0.5.6)\n",
            "Requirement already satisfied: threadpoolctl>=2.0.0 in /usr/local/lib/python3.10/dist-packages (from scikit-learn>=0.24.1->celltypist) (3.5.0)\n",
            "Requirement already satisfied: array-api-compat!=1.5,>1.4 in /usr/local/lib/python3.10/dist-packages (from anndata>=0.8->scanpy>=1.7.0->celltypist) (1.7.1)\n",
            "Requirement already satisfied: exceptiongroup in /usr/local/lib/python3.10/dist-packages (from anndata>=0.8->scanpy>=1.7.0->celltypist) (1.2.1)\n",
            "Requirement already satisfied: texttable>=1.6.2 in /usr/local/lib/python3.10/dist-packages (from igraph<0.12,>=0.10.0->leidenalg>=0.9.0->celltypist) (1.7.0)\n",
            "Requirement already satisfied: contourpy>=1.0.1 in /usr/local/lib/python3.10/dist-packages (from matplotlib>=3.6->scanpy>=1.7.0->celltypist) (1.2.1)\n",
            "Requirement already satisfied: cycler>=0.10 in /usr/local/lib/python3.10/dist-packages (from matplotlib>=3.6->scanpy>=1.7.0->celltypist) (0.12.1)\n",
            "Requirement already satisfied: fonttools>=4.22.0 in /usr/local/lib/python3.10/dist-packages (from matplotlib>=3.6->scanpy>=1.7.0->celltypist) (4.53.0)\n",
            "Requirement already satisfied: kiwisolver>=1.0.1 in /usr/local/lib/python3.10/dist-packages (from matplotlib>=3.6->scanpy>=1.7.0->celltypist) (1.4.5)\n",
            "Requirement already satisfied: pillow>=6.2.0 in /usr/local/lib/python3.10/dist-packages (from matplotlib>=3.6->scanpy>=1.7.0->celltypist) (9.4.0)\n",
            "Requirement already satisfied: pyparsing>=2.3.1 in /usr/local/lib/python3.10/dist-packages (from matplotlib>=3.6->scanpy>=1.7.0->celltypist) (3.1.2)\n",
            "Requirement already satisfied: llvmlite<0.44,>=0.43.0dev0 in /usr/local/lib/python3.10/dist-packages (from numba>=0.56->scanpy>=1.7.0->celltypist) (0.43.0)\n",
            "Requirement already satisfied: six>=1.5 in /usr/local/lib/python3.10/dist-packages (from python-dateutil>=2.8.2->pandas>=1.0.5->celltypist) (1.16.0)\n",
            "Requirement already satisfied: stdlib-list in /usr/local/lib/python3.10/dist-packages (from session-info->scanpy>=1.7.0->celltypist) (0.10.0)\n"
          ]
        }
      ]
    },
    {
      "cell_type": "code",
      "source": [
        "#umapに必要\n",
        "!pip3 install igraph\n",
        "!pip3 install leidenalg\n",
        "!pip install python-igraph louvain"
      ],
      "metadata": {
        "colab": {
          "base_uri": "https://localhost:8080/"
        },
        "id": "uTbuwIT-aBvb",
        "outputId": "a3c8b507-24d9-4eba-e821-e06648c4ee6d"
      },
      "execution_count": null,
      "outputs": [
        {
          "output_type": "stream",
          "name": "stdout",
          "text": [
            "Requirement already satisfied: igraph in /usr/local/lib/python3.10/dist-packages (0.11.5)\n",
            "Requirement already satisfied: texttable>=1.6.2 in /usr/local/lib/python3.10/dist-packages (from igraph) (1.7.0)\n",
            "Requirement already satisfied: leidenalg in /usr/local/lib/python3.10/dist-packages (0.10.2)\n",
            "Requirement already satisfied: igraph<0.12,>=0.10.0 in /usr/local/lib/python3.10/dist-packages (from leidenalg) (0.11.5)\n",
            "Requirement already satisfied: texttable>=1.6.2 in /usr/local/lib/python3.10/dist-packages (from igraph<0.12,>=0.10.0->leidenalg) (1.7.0)\n",
            "Requirement already satisfied: python-igraph in /usr/local/lib/python3.10/dist-packages (0.11.5)\n",
            "Requirement already satisfied: louvain in /usr/local/lib/python3.10/dist-packages (0.8.2)\n",
            "Requirement already satisfied: igraph==0.11.5 in /usr/local/lib/python3.10/dist-packages (from python-igraph) (0.11.5)\n",
            "Requirement already satisfied: texttable>=1.6.2 in /usr/local/lib/python3.10/dist-packages (from igraph==0.11.5->python-igraph) (1.7.0)\n"
          ]
        }
      ]
    },
    {
      "cell_type": "code",
      "source": [
        "#高変動遺伝子に必要\n",
        "!pip install scikit-misc"
      ],
      "metadata": {
        "colab": {
          "base_uri": "https://localhost:8080/"
        },
        "id": "ZNC1FNL6LDpd",
        "outputId": "1f145bb3-30e1-4723-b7f5-0c94aca74328"
      },
      "execution_count": null,
      "outputs": [
        {
          "output_type": "stream",
          "name": "stdout",
          "text": [
            "Requirement already satisfied: scikit-misc in /usr/local/lib/python3.10/dist-packages (0.4.0)\n",
            "Requirement already satisfied: numpy>=1.23.5 in /usr/local/lib/python3.10/dist-packages (from scikit-misc) (1.25.2)\n"
          ]
        }
      ]
    },
    {
      "cell_type": "code",
      "source": [
        "# 必要なパッケージのインストール\n",
        "!pip install scanpy anndata"
      ],
      "metadata": {
        "colab": {
          "base_uri": "https://localhost:8080/"
        },
        "id": "jgz80WkUiupX",
        "outputId": "d7765afd-d0be-4023-df02-5fc182030814"
      },
      "execution_count": null,
      "outputs": [
        {
          "output_type": "stream",
          "name": "stdout",
          "text": [
            "Requirement already satisfied: scanpy in /usr/local/lib/python3.10/dist-packages (1.10.2)\n",
            "Requirement already satisfied: anndata in /usr/local/lib/python3.10/dist-packages (0.10.8)\n",
            "Requirement already satisfied: h5py>=3.1 in /usr/local/lib/python3.10/dist-packages (from scanpy) (3.9.0)\n",
            "Requirement already satisfied: joblib in /usr/local/lib/python3.10/dist-packages (from scanpy) (1.4.2)\n",
            "Requirement already satisfied: legacy-api-wrap>=1.4 in /usr/local/lib/python3.10/dist-packages (from scanpy) (1.4)\n",
            "Requirement already satisfied: matplotlib>=3.6 in /usr/local/lib/python3.10/dist-packages (from scanpy) (3.7.1)\n",
            "Requirement already satisfied: natsort in /usr/local/lib/python3.10/dist-packages (from scanpy) (8.4.0)\n",
            "Requirement already satisfied: networkx>=2.7 in /usr/local/lib/python3.10/dist-packages (from scanpy) (3.3)\n",
            "Requirement already satisfied: numba>=0.56 in /usr/local/lib/python3.10/dist-packages (from scanpy) (0.60.0)\n",
            "Requirement already satisfied: numpy<2,>=1.23 in /usr/local/lib/python3.10/dist-packages (from scanpy) (1.25.2)\n",
            "Requirement already satisfied: packaging>=21.3 in /usr/local/lib/python3.10/dist-packages (from scanpy) (24.1)\n",
            "Requirement already satisfied: pandas>=1.5 in /usr/local/lib/python3.10/dist-packages (from scanpy) (2.2.2)\n",
            "Requirement already satisfied: patsy in /usr/local/lib/python3.10/dist-packages (from scanpy) (0.5.6)\n",
            "Requirement already satisfied: pynndescent>=0.5 in /usr/local/lib/python3.10/dist-packages (from scanpy) (0.5.13)\n",
            "Requirement already satisfied: scikit-learn>=0.24 in /usr/local/lib/python3.10/dist-packages (from scanpy) (1.2.2)\n",
            "Requirement already satisfied: scipy>=1.8 in /usr/local/lib/python3.10/dist-packages (from scanpy) (1.11.4)\n",
            "Requirement already satisfied: seaborn>=0.13 in /usr/local/lib/python3.10/dist-packages (from scanpy) (0.13.1)\n",
            "Requirement already satisfied: session-info in /usr/local/lib/python3.10/dist-packages (from scanpy) (1.0.0)\n",
            "Requirement already satisfied: statsmodels>=0.13 in /usr/local/lib/python3.10/dist-packages (from scanpy) (0.14.2)\n",
            "Requirement already satisfied: tqdm in /usr/local/lib/python3.10/dist-packages (from scanpy) (4.66.4)\n",
            "Requirement already satisfied: umap-learn!=0.5.0,>=0.5 in /usr/local/lib/python3.10/dist-packages (from scanpy) (0.5.6)\n",
            "Requirement already satisfied: array-api-compat!=1.5,>1.4 in /usr/local/lib/python3.10/dist-packages (from anndata) (1.7.1)\n",
            "Requirement already satisfied: exceptiongroup in /usr/local/lib/python3.10/dist-packages (from anndata) (1.2.1)\n",
            "Requirement already satisfied: contourpy>=1.0.1 in /usr/local/lib/python3.10/dist-packages (from matplotlib>=3.6->scanpy) (1.2.1)\n",
            "Requirement already satisfied: cycler>=0.10 in /usr/local/lib/python3.10/dist-packages (from matplotlib>=3.6->scanpy) (0.12.1)\n",
            "Requirement already satisfied: fonttools>=4.22.0 in /usr/local/lib/python3.10/dist-packages (from matplotlib>=3.6->scanpy) (4.53.0)\n",
            "Requirement already satisfied: kiwisolver>=1.0.1 in /usr/local/lib/python3.10/dist-packages (from matplotlib>=3.6->scanpy) (1.4.5)\n",
            "Requirement already satisfied: pillow>=6.2.0 in /usr/local/lib/python3.10/dist-packages (from matplotlib>=3.6->scanpy) (9.4.0)\n",
            "Requirement already satisfied: pyparsing>=2.3.1 in /usr/local/lib/python3.10/dist-packages (from matplotlib>=3.6->scanpy) (3.1.2)\n",
            "Requirement already satisfied: python-dateutil>=2.7 in /usr/local/lib/python3.10/dist-packages (from matplotlib>=3.6->scanpy) (2.8.2)\n",
            "Requirement already satisfied: llvmlite<0.44,>=0.43.0dev0 in /usr/local/lib/python3.10/dist-packages (from numba>=0.56->scanpy) (0.43.0)\n",
            "Requirement already satisfied: pytz>=2020.1 in /usr/local/lib/python3.10/dist-packages (from pandas>=1.5->scanpy) (2023.4)\n",
            "Requirement already satisfied: tzdata>=2022.7 in /usr/local/lib/python3.10/dist-packages (from pandas>=1.5->scanpy) (2024.1)\n",
            "Requirement already satisfied: threadpoolctl>=2.0.0 in /usr/local/lib/python3.10/dist-packages (from scikit-learn>=0.24->scanpy) (3.5.0)\n",
            "Requirement already satisfied: six in /usr/local/lib/python3.10/dist-packages (from patsy->scanpy) (1.16.0)\n",
            "Requirement already satisfied: stdlib-list in /usr/local/lib/python3.10/dist-packages (from session-info->scanpy) (0.10.0)\n"
          ]
        }
      ]
    },
    {
      "cell_type": "code",
      "source": [
        "# !pip install --upgrade anndata scanpy"
      ],
      "metadata": {
        "id": "wrdHu3i8tkvP"
      },
      "execution_count": null,
      "outputs": []
    },
    {
      "cell_type": "code",
      "source": [
        "from google.colab import drive\n",
        "drive.mount('/content/drive')"
      ],
      "metadata": {
        "id": "fn_v75fbi4b1",
        "colab": {
          "base_uri": "https://localhost:8080/"
        },
        "outputId": "f63107c4-a92a-4bf6-e4df-e0736a85b02e"
      },
      "execution_count": null,
      "outputs": [
        {
          "output_type": "stream",
          "name": "stdout",
          "text": [
            "Drive already mounted at /content/drive; to attempt to forcibly remount, call drive.mount(\"/content/drive\", force_remount=True).\n"
          ]
        }
      ]
    },
    {
      "cell_type": "code",
      "execution_count": null,
      "metadata": {
        "id": "xIhLRhyK210z"
      },
      "outputs": [],
      "source": [
        "# ライブラリのインポート\n",
        "import scanpy as sc\n",
        "import anndata as ad\n",
        "import pandas as pd\n",
        "import numpy as np\n",
        "import matplotlib.pyplot as plt\n",
        "import scipy.io"
      ]
    },
    {
      "cell_type": "markdown",
      "source": [
        "## data loading"
      ],
      "metadata": {
        "id": "U6TLmiUQwg_F"
      }
    },
    {
      "cell_type": "code",
      "source": [
        "# Google Drive上のデータパスを指定\n",
        "data_dir = '/content/drive/MyDrive/6 Internships/scRNAseq/最終課題'\n",
        "\n",
        "# GSE149689\n",
        "# data_dir = data_dir + \"/\" + \"GSE149689\"\n",
        "\n",
        "# 139386\n",
        "# data_dir = data_dir + \"/\" + \"139386\"\n",
        "\n",
        "#section4のデータ\n",
        "data_dir = data_dir + \"/\" + \"hg19\"\n",
        "# data_dir = \"/content/drive/MyDrive/6 Internships/scRNAseq/最終課題/hg19\""
      ],
      "metadata": {
        "id": "ZIBvlaOR1D9S"
      },
      "execution_count": null,
      "outputs": []
    },
    {
      "cell_type": "code",
      "source": [
        "# ファイルパスの指定\n",
        "#\n",
        "barcodes_path = f'{data_dir}/barcodes.tsv.gz'\n",
        "features_path = f'{data_dir}/features.tsv.gz'\n",
        "matrix_path = f'{data_dir}/matrix.mtx.gz'"
      ],
      "metadata": {
        "id": "Bal_d3gTwONt"
      },
      "execution_count": null,
      "outputs": []
    },
    {
      "cell_type": "code",
      "source": [
        "barcodes_path = f'{data_dir}/barcodes.tsv'\n",
        "features_path = f'{data_dir}/features.tsv'\n",
        "matrix_path = f'{data_dir}/matrix.mtx'"
      ],
      "metadata": {
        "id": "HwmArVnRTXl3"
      },
      "execution_count": null,
      "outputs": []
    },
    {
      "cell_type": "code",
      "source": [
        "# バーコード、特徴量、マトリックスの読み込み\n",
        "barcodes = pd.read_csv(barcodes_path, header=None)\n",
        "features = pd.read_csv(features_path, header=None, sep='\\t')\n",
        "matrix = scipy.io.mmread(matrix_path)\n",
        "# AnnDataオブジェクトの作成\n",
        "adata = sc.AnnData(X=matrix.T.tocsr())\n",
        "adata.obs_names = barcodes[0].values #細胞名　obs.indexとおなじ\n",
        "adata.var_names = features[1].values #遺伝子名 var.indexとおなじ\n",
        "\n",
        "# 読み込んだデータの表示\n",
        "print(adata)"
      ],
      "metadata": {
        "id": "G9NL9ivt292y",
        "colab": {
          "base_uri": "https://localhost:8080/"
        },
        "outputId": "83f86054-2d7c-4a28-d39e-f7198f1c07d9"
      },
      "execution_count": null,
      "outputs": [
        {
          "output_type": "stream",
          "name": "stdout",
          "text": [
            "AnnData object with n_obs × n_vars = 2700 × 32738\n"
          ]
        }
      ]
    },
    {
      "cell_type": "markdown",
      "source": [
        "### save current state"
      ],
      "metadata": {
        "id": "mMI2QEJEwkFN"
      }
    },
    {
      "cell_type": "code",
      "source": [
        "# adata_copy1 = adata.copy()"
      ],
      "metadata": {
        "id": "7XhHYdacwj6P"
      },
      "execution_count": null,
      "outputs": []
    },
    {
      "cell_type": "code",
      "source": [
        "# adata = adata_copy1.copy()"
      ],
      "metadata": {
        "id": "NiZmoLHVwo30"
      },
      "execution_count": null,
      "outputs": []
    },
    {
      "cell_type": "markdown",
      "source": [
        "## data exploration"
      ],
      "metadata": {
        "id": "5zPEMz4MwdR6"
      }
    },
    {
      "cell_type": "code",
      "source": [
        "adata.var"
      ],
      "metadata": {
        "id": "BSk38o1lwvo1"
      },
      "execution_count": null,
      "outputs": []
    },
    {
      "cell_type": "code",
      "source": [
        "adata.obs"
      ],
      "metadata": {
        "id": "3RpGcIN6wyrI"
      },
      "execution_count": null,
      "outputs": []
    },
    {
      "cell_type": "code",
      "source": [
        "print(adata.X)"
      ],
      "metadata": {
        "id": "lKnqkhdLw1ua"
      },
      "execution_count": null,
      "outputs": []
    },
    {
      "cell_type": "markdown",
      "source": [
        "## pre-processing"
      ],
      "metadata": {
        "id": "Gn71i9XUwtoa"
      }
    },
    {
      "cell_type": "markdown",
      "source": [
        "### 遺伝子の重複をなくす"
      ],
      "metadata": {
        "id": "ClQEmRlT49Md"
      }
    },
    {
      "cell_type": "markdown",
      "source": [
        "同じ遺伝子が複数回adata.varに登録されている。\\\n",
        "重複している遺伝子については、発現量を全て合計して、その合計値で記録し、重複を消去する。"
      ],
      "metadata": {
        "id": "Grbg83LV5E-h"
      }
    },
    {
      "cell_type": "code",
      "source": [
        "# 重複している遺伝子名を見つける\n",
        "duplicated_genes = adata.var_names[adata.var_names.duplicated()]\n",
        "print(\"Duplicated genes:\")\n",
        "print(duplicated_genes)"
      ],
      "metadata": {
        "id": "l4bh5w5o45HQ"
      },
      "execution_count": null,
      "outputs": []
    },
    {
      "cell_type": "code",
      "source": [
        "# 重複する遺伝子名のリストを取得\n",
        "gene_names = adata.var_names.to_series()\n",
        "duplicated_genes = gene_names[gene_names.duplicated(keep=False)]\n",
        "print(duplicated_genes.shape)"
      ],
      "metadata": {
        "id": "VCWrTz1f46lQ"
      },
      "execution_count": null,
      "outputs": []
    },
    {
      "cell_type": "code",
      "source": [
        "new_data = adata.to_df()\n",
        "new_data = new_data.groupby(new_data.columns, axis=1).sum() #遺伝子ごとの発現量の合計値を計算する。"
      ],
      "metadata": {
        "id": "bAXM1E4S5fWK",
        "colab": {
          "base_uri": "https://localhost:8080/"
        },
        "outputId": "a79acf92-4ea4-4a01-8ee2-11f224e9e60a"
      },
      "execution_count": null,
      "outputs": [
        {
          "output_type": "stream",
          "name": "stderr",
          "text": [
            "<ipython-input-13-6f246a8b3be9>:2: FutureWarning: DataFrame.groupby with axis=1 is deprecated. Do `frame.T.groupby(...)` without axis instead.\n",
            "  new_data = new_data.groupby(new_data.columns, axis=1).sum() #遺伝子ごとの発現量の合計値を計算する。\n"
          ]
        }
      ]
    },
    {
      "cell_type": "code",
      "source": [
        "adata =  sc.AnnData(X=new_data.values)\n",
        "adata.obs_names = new_data.index\n",
        "adata.var_names = new_data.columns"
      ],
      "metadata": {
        "id": "GnHGG0UA5_oS"
      },
      "execution_count": null,
      "outputs": []
    },
    {
      "cell_type": "markdown",
      "source": [
        "### QC"
      ],
      "metadata": {
        "id": "EqJsVN9A5bVx"
      }
    },
    {
      "cell_type": "code",
      "source": [
        "# MT-で始まる遺伝子のインデックスを見つける\n",
        "mt_genes = adata.var_names.str.startswith('MT-')"
      ],
      "metadata": {
        "id": "DQbEING91Op_"
      },
      "execution_count": null,
      "outputs": []
    },
    {
      "cell_type": "code",
      "source": [
        "print(type(mt_genes))\n",
        "mt_genes"
      ],
      "metadata": {
        "id": "dMj1lM831c5k"
      },
      "execution_count": null,
      "outputs": []
    },
    {
      "cell_type": "code",
      "source": [
        "def QC(adata):\n",
        "    # MT-で始まる遺伝子のインデックスを見つける\n",
        "    mt_genes = adata.var_names.str.startswith('MT-')\n",
        "    # ミトコンドリア遺伝子の発現割合を計算してobsに追加\n",
        "    percent_mt = adata[:,mt_genes].X.sum(axis=1) / adata.X.sum(axis=1) * 100\n",
        "    # 各細胞におけるユニークな遺伝子の数（非ゼロの遺伝子数）\n",
        "    nFeature_RNA = (adata.X > 0).sum(axis=1)\n",
        "    # 各細胞における全てのRNA分子の総数\n",
        "    nCount_RNA = adata.X.sum(axis=1)\n",
        "\n",
        "    df_violin_QC =\\\n",
        "    pd.DataFrame({\"nFeature_RNA\":nFeature_RNA, \"nCount_RNA\":nCount_RNA, \"percent_mt\":percent_mt},\\\n",
        "                index = adata.obs_names)\n",
        "    return df_violin_QC"
      ],
      "metadata": {
        "id": "ra7O_jxp44Fo"
      },
      "execution_count": null,
      "outputs": []
    },
    {
      "cell_type": "code",
      "source": [
        "df_violin_QC = QC(adata)\n",
        "violin_adata = sc.AnnData(df_violin_QC)"
      ],
      "metadata": {
        "id": "8M4GyldICNId",
        "colab": {
          "base_uri": "https://localhost:8080/"
        },
        "outputId": "2ba15882-4887-4a15-8750-de55015ae4e1"
      },
      "execution_count": null,
      "outputs": [
        {
          "output_type": "stream",
          "name": "stderr",
          "text": [
            "/usr/local/lib/python3.10/dist-packages/anndata/utils.py:292: UserWarning: X converted to numpy array with dtype float64\n",
            "  warnings.warn(f\"{name} converted to numpy array with dtype {arr.dtype}\")\n"
          ]
        }
      ]
    },
    {
      "cell_type": "markdown",
      "source": [
        "#### Violin plot & 相関 before QC"
      ],
      "metadata": {
        "id": "RVUU9hKqDCkZ"
      }
    },
    {
      "cell_type": "code",
      "source": [
        "# プロット1: バイオリンプロット\n",
        "sc.pl.violin(violin_adata, [\"nFeature_RNA\", \"nCount_RNA\", \"percent_mt\"], jitter=0.4, multi_panel=True)"
      ],
      "metadata": {
        "id": "rsdxl9xf6_Ip"
      },
      "execution_count": null,
      "outputs": []
    },
    {
      "cell_type": "code",
      "source": [
        "corr_nCount_percent_mt = np.corrcoef(df_violin_QC['nCount_RNA'], df_violin_QC['percent_mt'])[0,1]\n",
        "corr_nCount_nFeature_RNA = np.corrcoef(df_violin_QC['nCount_RNA'], df_violin_QC['nFeature_RNA'])[0, 1]"
      ],
      "metadata": {
        "id": "dx1b2fmT_r5o"
      },
      "execution_count": null,
      "outputs": []
    },
    {
      "cell_type": "code",
      "source": [
        "# プロット2: 散布図\n",
        "sc.pl.scatter(violin_adata, x='nCount_RNA', y='percent_mt', title=f'nCount_RNA vs percent_mt (corr: {corr_nCount_percent_mt:.2f})')\n",
        "sc.pl.scatter(violin_adata, x='nCount_RNA', y='nFeature_RNA', title=f'nCount_RNA vs nFeature_RNA (corr: {corr_nCount_nFeature_RNA:.2f})')"
      ],
      "metadata": {
        "id": "E3cNIfBm_Cyb"
      },
      "execution_count": null,
      "outputs": []
    },
    {
      "cell_type": "markdown",
      "source": [
        "#### Filtering"
      ],
      "metadata": {
        "id": "0K3EswYmDYVu"
      }
    },
    {
      "cell_type": "code",
      "source": [
        "adata_QC = adata[(200< df_violin_QC['nFeature_RNA'])\\\n",
        "                 & (df_violin_QC['nFeature_RNA'] < 5000)\\\n",
        "                 & (df_violin_QC['percent_mt'] < 15)]\n",
        "print(adata)\n",
        "print(adata_QC)"
      ],
      "metadata": {
        "id": "QSi1ZL7lAfFI",
        "colab": {
          "base_uri": "https://localhost:8080/"
        },
        "outputId": "3343e394-e36c-485a-c89b-03f7df6c5dfe"
      },
      "execution_count": null,
      "outputs": [
        {
          "output_type": "stream",
          "name": "stdout",
          "text": [
            "AnnData object with n_obs × n_vars = 2700 × 32643\n",
            "View of AnnData object with n_obs × n_vars = 2698 × 32643\n"
          ]
        }
      ]
    },
    {
      "cell_type": "markdown",
      "source": [
        "#### Violin plot & 相関 After QC"
      ],
      "metadata": {
        "id": "c3m0NGTNDWGw"
      }
    },
    {
      "cell_type": "code",
      "source": [
        "# プロットの再表示 (フィルタリング後のデータに対して)\n",
        "df_violin_QC = QC(adata_QC)\n",
        "violin_adata = sc.AnnData(df_violin_QC)\n",
        "\n",
        "sc.pl.violin(violin_adata, [\"nFeature_RNA\", \"nCount_RNA\", \"percent_mt\"], jitter=0.4, multi_panel=True)\n",
        "\n",
        "corr_nCount_percent_mt = np.corrcoef(df_violin_QC['nCount_RNA'], df_violin_QC['percent_mt'])[0,1]\n",
        "corr_nCount_nFeature_RNA = np.corrcoef(df_violin_QC['nCount_RNA'], df_violin_QC['nFeature_RNA'])[0, 1]\n",
        "\n",
        "# プロット2: 散布図\n",
        "sc.pl.scatter(violin_adata, x='nCount_RNA', y='percent_mt', title=f'nCount_RNA vs percent_mt (corr: {corr_nCount_percent_mt:.2f})')\n",
        "sc.pl.scatter(violin_adata, x='nCount_RNA', y='nFeature_RNA', title=f'nCount_RNA vs nFeature_RNA (corr: {corr_nCount_nFeature_RNA:.2f})')"
      ],
      "metadata": {
        "id": "xzIb3ZdT1KrW"
      },
      "execution_count": null,
      "outputs": []
    },
    {
      "cell_type": "markdown",
      "source": [
        "#### 正規化"
      ],
      "metadata": {
        "id": "BIdDpQcAaiGi"
      }
    },
    {
      "cell_type": "code",
      "source": [
        "# 正規化\n",
        "sc.pp.normalize_total(adata_QC, target_sum=1e4)\n",
        "sc.pp.log1p(adata_QC) # celltypistはlog1pで変換されていることが前提になっている。"
      ],
      "metadata": {
        "id": "qW7sao5k3BNm",
        "colab": {
          "base_uri": "https://localhost:8080/"
        },
        "outputId": "696f03f9-4c2b-4612-c398-cfa92e0f624e"
      },
      "execution_count": null,
      "outputs": [
        {
          "output_type": "stream",
          "name": "stderr",
          "text": [
            "/usr/local/lib/python3.10/dist-packages/scanpy/preprocessing/_normalization.py:207: UserWarning: Received a view of an AnnData. Making a copy.\n",
            "  view_to_actual(adata)\n"
          ]
        }
      ]
    },
    {
      "cell_type": "markdown",
      "source": [
        "#### 変動遺伝子"
      ],
      "metadata": {
        "id": "JG8nXZTVanPH"
      }
    },
    {
      "cell_type": "code",
      "source": [
        "# 高可変性遺伝子の検出\n",
        "sc.pp.highly_variable_genes(adata_QC, flavor='seurat_v3', n_top_genes=2000)"
      ],
      "metadata": {
        "id": "EJdJnWGUESN7",
        "colab": {
          "base_uri": "https://localhost:8080/"
        },
        "outputId": "28991ea7-c690-4ee6-dc74-a4015fbf7c70"
      },
      "execution_count": null,
      "outputs": [
        {
          "output_type": "stream",
          "name": "stderr",
          "text": [
            "/usr/local/lib/python3.10/dist-packages/scanpy/preprocessing/_highly_variable_genes.py:75: UserWarning: `flavor='seurat_v3'` expects raw count data, but non-integers were found.\n",
            "  warnings.warn(\n"
          ]
        }
      ]
    },
    {
      "cell_type": "code",
      "source": [
        "# 上位10個の高変動遺伝子を取得\n",
        "top10 = adata_QC.var[adata_QC.var['highly_variable']].sort_values(by='highly_variable_rank').index[:10]\n",
        "\n",
        "# プロットの作成\n",
        "plt.figure(figsize=(10, 6))\n",
        "ax = sc.pl.highly_variable_genes(adata_QC, show=False)\n",
        "\n",
        "# 上位10個の遺伝子にラベルを付ける\n",
        "for gene in top10:\n",
        "    idx = adata_QC.var.index.get_loc(gene)\n",
        "    ax.annotate(gene, (adata_QC.var['means'][idx], adata_QC.var['variances'][idx]),\n",
        "                fontsize=7, color='red', ha='right')\n",
        "\n",
        "plt.show()"
      ],
      "metadata": {
        "id": "C15_GfFGNpGE"
      },
      "execution_count": null,
      "outputs": []
    },
    {
      "cell_type": "code",
      "source": [
        "# 高変動遺伝子のマスクを作成\n",
        "highly_variable_mask = adata_QC.var['highly_variable']\n",
        "# 高変動遺伝子のみをスケーリング\n",
        "adata_highly_variable = adata_QC[:, highly_variable_mask].copy()\n",
        "sc.pp.scale(adata_highly_variable)"
      ],
      "metadata": {
        "id": "gRleIfbeU9cm"
      },
      "execution_count": null,
      "outputs": []
    },
    {
      "cell_type": "markdown",
      "source": [
        "#### 次元削減前のデータを保存"
      ],
      "metadata": {
        "id": "twNFekUIkG7e"
      }
    },
    {
      "cell_type": "markdown",
      "source": [
        "annotate後に再び次元削減して可視化する。"
      ],
      "metadata": {
        "id": "U7SZSYSAhx86"
      }
    },
    {
      "cell_type": "code",
      "source": [
        "# スケーリング前のデータを保存\n",
        "adata_QC.layers['before_DimRed'] = adata_QC.X.copy()"
      ],
      "metadata": {
        "id": "B1J_HNUgkGrn"
      },
      "execution_count": null,
      "outputs": []
    },
    {
      "cell_type": "markdown",
      "source": [
        "#### スケーリング"
      ],
      "metadata": {
        "id": "eIa9nN11arHV"
      }
    },
    {
      "cell_type": "code",
      "source": [
        "# スケーリングされた高変動遺伝子のデータを元のデータに戻す\n",
        "adata_QC[:, highly_variable_mask].X = adata_highly_variable.X"
      ],
      "metadata": {
        "id": "iGnQNmPLU25K"
      },
      "execution_count": null,
      "outputs": []
    },
    {
      "cell_type": "markdown",
      "source": [],
      "metadata": {
        "id": "9Lyl4fK1hLnX"
      }
    },
    {
      "cell_type": "markdown",
      "source": [
        "### 次元削減"
      ],
      "metadata": {
        "id": "yo2oLf2xgntu"
      }
    },
    {
      "cell_type": "code",
      "source": [
        "# PCAの実行\n",
        "sc.tl.pca(adata_QC,svd_solver='arpack')\n",
        "\n",
        "# UMAPの実行\n",
        "sc.pp.neighbors(adata_QC, n_pcs=20)  # UMAPの前に隣接グラフを作成する必要があります\n",
        "sc.tl.umap(adata_QC)\n",
        "\n",
        "# 隣接グラフの構築\n",
        "sc.pp.neighbors(adata_QC, n_pcs=10)"
      ],
      "metadata": {
        "id": "Z-rEVgFEZCg7"
      },
      "execution_count": null,
      "outputs": []
    },
    {
      "cell_type": "code",
      "source": [
        "adata_QC.layers[\"before clustering\"] = adata_QC.copy()\n",
        "# adata_QC = adata_QC.layers[\"before clustering\"].copy()"
      ],
      "metadata": {
        "id": "PZoUDasYjKHl"
      },
      "execution_count": null,
      "outputs": []
    },
    {
      "cell_type": "code",
      "source": [
        "# クラスタリングの実行\n",
        "sc.tl.leiden(adata_QC, resolution=0.5)\n",
        "# UMAPプロットの作成\n",
        "sc.pl.umap(adata_QC, color='leiden', legend_loc='on data', title='UMAP with Clusters', frameon=False)"
      ],
      "metadata": {
        "id": "3CK2_zMBat4U",
        "colab": {
          "base_uri": "https://localhost:8080/",
          "height": 520
        },
        "outputId": "f358d7cb-9485-4133-9272-b2e68cb25209"
      },
      "execution_count": null,
      "outputs": [
        {
          "output_type": "stream",
          "name": "stderr",
          "text": [
            "<ipython-input-25-415699c4653c>:2: FutureWarning: In the future, the default backend for leiden will be igraph instead of leidenalg.\n",
            "\n",
            " To achieve the future defaults please pass: flavor=\"igraph\" and n_iterations=2.  directed must also be False to work with igraph's implementation.\n",
            "  sc.tl.leiden(adata_QC, resolution=0.5)\n"
          ]
        },
        {
          "output_type": "display_data",
          "data": {
            "text/plain": [
              "<Figure size 640x480 with 1 Axes>"
            ],
            "image/png": "[encoded data removed]"
          },
          "metadata": {}
        }
      ]
    },
    {
      "cell_type": "code",
      "source": [
        "# Louvainアルゴリズムによるクラスタリング\n",
        "sc.tl.louvain(adata_QC)\n",
        "sc.pl.umap(adata_QC, color=['louvain'])"
      ],
      "metadata": {
        "id": "4dFP5H20cDHK",
        "colab": {
          "base_uri": "https://localhost:8080/",
          "height": 448
        },
        "outputId": "85ae2450-b0be-45cb-9dd0-e65346d741a4"
      },
      "execution_count": null,
      "outputs": [
        {
          "output_type": "display_data",
          "data": {
            "text/plain": [
              "<Figure size 640x480 with 1 Axes>"
            ],
            "image/png": "[encoded data removed]"
          },
          "metadata": {}
        }
      ]
    },
    {
      "cell_type": "markdown",
      "source": [
        "#### save current state"
      ],
      "metadata": {
        "id": "rU7VNQn3cl9G"
      }
    },
    {
      "cell_type": "code",
      "source": [
        "adata_clustered = adata_QC.copy()"
      ],
      "metadata": {
        "id": "YHkpTPK9ci_W"
      },
      "execution_count": null,
      "outputs": []
    },
    {
      "cell_type": "code",
      "source": [
        "# adata_copy = adata.copy()"
      ],
      "metadata": {
        "id": "Yy6hQMge80LI"
      },
      "execution_count": null,
      "outputs": []
    },
    {
      "cell_type": "markdown",
      "source": [
        "# annotation"
      ],
      "metadata": {
        "id": "vc4F30RoAhbf"
      }
    },
    {
      "cell_type": "code",
      "source": [],
      "metadata": {
        "id": "shkEVFiF6bWV"
      },
      "execution_count": null,
      "outputs": []
    },
    {
      "cell_type": "code",
      "source": [
        "adata_CellTypist= adata_QC.copy()\n",
        "adata_CellTypist.X = adata_QC.layers['before_DimRed'].copy()"
      ],
      "metadata": {
        "id": "yJZfWl_3g5_d"
      },
      "execution_count": null,
      "outputs": []
    },
    {
      "cell_type": "code",
      "source": [
        "# adata = adata_copy.copy()"
      ],
      "metadata": {
        "id": "tZAxlz17eVQn"
      },
      "execution_count": null,
      "outputs": []
    },
    {
      "cell_type": "code",
      "source": [
        "total_counts = np.expm1(adata_CellTypist.X).sum(axis=1)\n",
        "print(total_counts)\n",
        "print(total_counts.min(), total_counts.max())"
      ],
      "metadata": {
        "id": "tNtjdKfydcXI"
      },
      "execution_count": null,
      "outputs": []
    },
    {
      "cell_type": "markdown",
      "source": [
        "## CellTypist"
      ],
      "metadata": {
        "id": "UIYRzq8u_Vfe"
      }
    },
    {
      "cell_type": "code",
      "source": [
        "import celltypist\n",
        "from celltypist import models"
      ],
      "metadata": {
        "id": "1DaGfBa23V2Q"
      },
      "execution_count": null,
      "outputs": []
    },
    {
      "cell_type": "code",
      "source": [
        "# Enabling `force_update = True` will overwrite existing (old) models.\n",
        "models.download_models(force_update = True)"
      ],
      "metadata": {
        "id": "SKul9f_63U2d"
      },
      "execution_count": null,
      "outputs": []
    },
    {
      "cell_type": "code",
      "source": [
        "# Indeed, the `model` argument defaults to `Immune_All_Low.pkl`.\n",
        "model = models.Model.load(model = 'Immune_All_Low.pkl')\n",
        "\n",
        "# アノテーションの実行\n",
        "predictions = celltypist.annotate(adata_CellTypist, model = 'Immune_All_Low.pkl', majority_voting = True)\n",
        "\n",
        "# アノテーション結果の追加\n",
        "#adata_CellTypist.obs['CellTypist_labels'] = predictions.predicted_labels\n",
        "adata_CellTypist = predictions.to_adata()\n",
        "# アノテーション結果の保存\n",
        "# adata.write('annotated_data.h5ad')"
      ],
      "metadata": {
        "id": "lHtp517968aK"
      },
      "execution_count": null,
      "outputs": []
    },
    {
      "cell_type": "code",
      "source": [
        "# adata_CellTypist = sc.read_h5ad('/content/annotated_data.h5ad')"
      ],
      "metadata": {
        "id": "J7Kk6DabuRq5"
      },
      "execution_count": null,
      "outputs": []
    },
    {
      "cell_type": "code",
      "source": [
        "adata_CellTypist.obs"
      ],
      "metadata": {
        "id": "ZBe-9w8A34k_"
      },
      "execution_count": null,
      "outputs": []
    },
    {
      "cell_type": "code",
      "source": [
        "adata_CellTypist"
      ],
      "metadata": {
        "id": "AfjbhKNr8bv6"
      },
      "execution_count": null,
      "outputs": []
    },
    {
      "cell_type": "markdown",
      "source": [
        "##### scaling"
      ],
      "metadata": {
        "id": "g-QdmeUnrSY-"
      }
    },
    {
      "cell_type": "code",
      "source": [
        "adata_CellTypist.obs"
      ],
      "metadata": {
        "id": "6HZ5j-uGv9A8"
      },
      "execution_count": null,
      "outputs": []
    },
    {
      "cell_type": "code",
      "source": [
        "# スケーリングされた高変動遺伝子のデータを元のデータに戻す\n",
        "adata_CellTypist[:, highly_variable_mask].X = adata_highly_variable.X"
      ],
      "metadata": {
        "id": "d-ol3YvyrSIy"
      },
      "execution_count": null,
      "outputs": []
    },
    {
      "cell_type": "markdown",
      "source": [
        "#### 次元削減"
      ],
      "metadata": {
        "id": "FAwM1lhtr2NH"
      }
    },
    {
      "cell_type": "code",
      "source": [
        "# PCAの実行\n",
        "sc.tl.pca(adata_CellTypist,svd_solver='arpack')\n",
        "\n",
        "# UMAPの実行\n",
        "sc.pp.neighbors(adata_CellTypist, n_pcs=20)  # UMAPの前に隣接グラフを作成する必要があります\n",
        "sc.tl.umap(adata_CellTypist)\n",
        "\n",
        "# 隣接グラフの構築\n",
        "sc.pp.neighbors(adata_CellTypist, n_pcs=10)"
      ],
      "metadata": {
        "id": "HFXr1e7e4A-G"
      },
      "execution_count": null,
      "outputs": []
    },
    {
      "cell_type": "code",
      "source": [
        "adata_CellTypist.layers[\"annotate before clustering\"] = adata_CellTypist.copy()\n",
        "# adata_QC = adata_QC.layers[\"annotate before clustering\"].copy()"
      ],
      "metadata": {
        "id": "ojRfzgZ0lbs8"
      },
      "execution_count": null,
      "outputs": []
    },
    {
      "cell_type": "code",
      "source": [
        "# クラスタリングの実行\n",
        "sc.tl.leiden(adata_CellTypist, resolution=0.5)\n",
        "# UMAPプロットの作成\n",
        "# sc.pl.umap(adata_CellTypist, color='predicted_labels', legend_loc='on data', title='UMAP with Annotations', frameon=False)\n",
        "\n",
        "sc.pl.umap(adata_CellTypist, color='predicted_labels', title='Annotation by CellTypist', frameon=False)"
      ],
      "metadata": {
        "id": "H4mtplT1luoZ"
      },
      "execution_count": null,
      "outputs": []
    },
    {
      "cell_type": "code",
      "source": [
        "adata_CellTypist.obs['predicted_labels'].value_counts()"
      ],
      "metadata": {
        "id": "YvHytL_gpVlf"
      },
      "execution_count": null,
      "outputs": []
    },
    {
      "cell_type": "code",
      "source": [
        "# 100以上の出現回数を持つ細胞タイプを取得\n",
        "cell_type_counts = adata_CellTypist.obs['predicted_labels'].value_counts()\n",
        "frequent_cell_types = cell_type_counts[cell_type_counts >= 70].index.tolist()\n",
        "# UMAPプロット\n",
        "sc.pl.umap(adata_CellTypist,\n",
        "           color='predicted_labels',\n",
        "           title='Frequent Cell Types (Count >= 100) by CellTypist',\n",
        "           frameon=False)"
      ],
      "metadata": {
        "id": "LM0_jFpQpQ4q"
      },
      "execution_count": null,
      "outputs": []
    },
    {
      "cell_type": "code",
      "source": [
        "# 100以上の出現回数を持つ細胞タイプを取得\n",
        "cell_type_counts = adata_CellTypist.obs['predicted_labels'].value_counts()\n",
        "frequent_cell_types = cell_type_counts[cell_type_counts >= 70].index.tolist()\n",
        "rare_cell_types = cell_type_counts[(cell_type_counts < 70) & (cell_type_counts >= 5)].index.tolist()\n",
        "\n",
        "# 頻出する細胞タイプのインデックスを取得\n",
        "selected_indices = adata_CellTypist.obs['predicted_labels'].isin(frequent_cell_types)\n",
        "\n",
        "# 新しいAnnDataオブジェクトを作成（選択された細胞タイプ）\n",
        "adata_CellTypist_selected = sc.AnnData(\n",
        "    X=adata_CellTypist.X[selected_indices],\n",
        "    obs=adata_CellTypist.obs.loc[selected_indices],\n",
        "    var=adata_CellTypist.var,\n",
        "    uns=adata_CellTypist.uns.copy(),\n",
        "    obsm={'X_umap': adata_CellTypist.obsm['X_umap'][selected_indices]},\n",
        "    varm=adata_CellTypist.varm,\n",
        "    layers={key: layer[selected_indices] for key, layer in adata_CellTypist.layers.items()},\n",
        "    obsp={key: connectivities[selected_indices][:, selected_indices] for key, connectivities in adata_CellTypist.obsp.items()}\n",
        ")\n",
        "\n",
        "# predicted_labelsのカテゴリを選択された細胞タイプに限定\n",
        "adata_CellTypist_selected.obs['predicted_labels'] = pd.Categorical(\n",
        "    adata_CellTypist_selected.obs['predicted_labels'],\n",
        "    categories=frequent_cell_types\n",
        ")\n",
        "\n",
        "# 稀な細胞タイプのインデックスを取得\n",
        "\n",
        "rare_indices = adata_CellTypist.obs['predicted_labels'].isin(rare_cell_types)\n",
        "\n",
        "# 新しいAnnDataオブジェクトを作成（稀な細胞タイプ）\n",
        "adata_CellTypist_rare = sc.AnnData(\n",
        "    X=adata_CellTypist.X[rare_indices],\n",
        "    obs=adata_CellTypist.obs.loc[rare_indices],\n",
        "    var=adata_CellTypist.var,\n",
        "    uns=adata_CellTypist.uns.copy(),\n",
        "    obsm={'X_umap': adata_CellTypist.obsm['X_umap'][rare_indices]},\n",
        "    varm=adata_CellTypist.varm,\n",
        "    layers={key: layer[rare_indices] for key, layer in adata_CellTypist.layers.items()},\n",
        "    obsp={key: connectivities[rare_indices][:, rare_indices] for key, connectivities in adata_CellTypist.obsp.items()}\n",
        ")\n",
        "\n",
        "# predicted_labelsのカテゴリを稀な細胞タイプに限定\n",
        "rare_cell_types = list(set(adata_CellTypist_rare.obs['predicted_labels'].unique()) - set(frequent_cell_types))\n",
        "adata_CellTypist_rare.obs['predicted_labels'] = pd.Categorical(\n",
        "    adata_CellTypist_rare.obs['predicted_labels'],\n",
        "    categories=rare_cell_types\n",
        ")"
      ],
      "metadata": {
        "id": "unvKmeLmrP6g"
      },
      "execution_count": null,
      "outputs": []
    },
    {
      "cell_type": "code",
      "source": [
        "# UMAPプロット\n",
        "sc.pl.umap(adata_CellTypist_selected,\n",
        "           color='predicted_labels',\n",
        "           title = \"common cells\",\n",
        "           frameon=False)"
      ],
      "metadata": {
        "id": "3CxOMyHku48p"
      },
      "execution_count": null,
      "outputs": []
    },
    {
      "cell_type": "code",
      "source": [
        "# UMAPプロット\n",
        "sc.pl.umap(adata_CellTypist_rare,\n",
        "           color='predicted_labels',\n",
        "           title = \"Rare Cells\",\n",
        "           frameon=False)"
      ],
      "metadata": {
        "id": "S01q05SmrSbJ"
      },
      "execution_count": null,
      "outputs": []
    },
    {
      "cell_type": "code",
      "source": [
        "# プロットの設定\n",
        "fig, ax = plt.subplots(figsize=(12, 10))\n",
        "\n",
        "# adata_CellTypist_selectedをグレーで表示（キャプションなし）\n",
        "sc.pl.umap(adata_CellTypist_selected,\n",
        "           ax=ax,\n",
        "           color='predicted_labels',\n",
        "           palette=['lightgrey'] * len(adata_CellTypist_selected.obs['predicted_labels'].cat.categories),\n",
        "           legend_loc=None,  # キャプションを非表示\n",
        "           show=False,\n",
        "           title='')\n",
        "\n",
        "# adata_CellTypist_rareをcolor='predicted_labels'で表示（キャプション付き）\n",
        "sc.pl.umap(adata_CellTypist_rare,\n",
        "           ax=ax,\n",
        "           color='predicted_labels',\n",
        "        #    legend_loc='on data',  # キャプションをプロット内に表示\n",
        "           legend_fontsize=8,\n",
        "           legend_fontoutline=2,\n",
        "           size=100,\n",
        "           show=False,\n",
        "           title='')\n",
        "plt.tight_layout()\n",
        "plt.show()"
      ],
      "metadata": {
        "id": "-nTBMIhj1N2H"
      },
      "execution_count": null,
      "outputs": []
    },
    {
      "cell_type": "code",
      "source": [
        "# Louvainアルゴリズムによるクラスタリング\n",
        "sc.tl.louvain(adata_CellTypist)\n",
        "sc.pl.umap(adata_CellTypist, color='predicted_labels')"
      ],
      "metadata": {
        "id": "Qt_Jjb_ol0oK"
      },
      "execution_count": null,
      "outputs": []
    },
    {
      "cell_type": "markdown",
      "source": [
        "subclassを細かく分類しすぎているだけなのかも。 \\\n",
        "* 一番大きい島のT cell\n",
        "* その付近にNK cell\n",
        "* B cellの島 \\\n",
        "* monocytoの島 \\\n",
        "とみると、seuratによる分類とほぼ一致する。"
      ],
      "metadata": {
        "id": "NCiNl4bOoEJ7"
      }
    },
    {
      "cell_type": "markdown",
      "source": [
        "Seuratの自動アノテーション"
      ],
      "metadata": {
        "id": "-Pm5cDbknPUP"
      }
    },
    {
      "cell_type": "markdown",
      "source": [
        "![image.png](data:image/png;base64,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)"
      ],
      "metadata": {
        "id": "ZK4Q2MF9nNDP"
      }
    },
    {
      "cell_type": "markdown",
      "source": [
        "![image.png](data:image/png;base64,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)"
      ],
      "metadata": {
        "id": "_mnlFnSdnfHs"
      }
    },
    {
      "cell_type": "markdown",
      "source": [
        "## decoupler"
      ],
      "metadata": {
        "id": "3pWLxlJmKn17"
      }
    },
    {
      "cell_type": "markdown",
      "source": [
        "https://qiita.com/nikera/items/45cc4d6491182d1e0aab"
      ],
      "metadata": {
        "id": "YinzFSSBKvYJ"
      }
    },
    {
      "cell_type": "code",
      "source": [
        "adata_decoupler = adata_clustered.copy()"
      ],
      "metadata": {
        "id": "KJAC2j9iNGLs"
      },
      "execution_count": null,
      "outputs": []
    },
    {
      "cell_type": "code",
      "source": [
        "!pip install decoupler\n",
        "!pip install omnipath"
      ],
      "metadata": {
        "id": "jPwrM1EPLp_5",
        "colab": {
          "base_uri": "https://localhost:8080/"
        },
        "outputId": "d3d35508-b01d-4cab-c490-d2e563052524"
      },
      "execution_count": null,
      "outputs": [
        {
          "output_type": "stream",
          "name": "stdout",
          "text": [
            "Requirement already satisfied: decoupler in /usr/local/lib/python3.10/dist-packages (1.7.0)\n",
            "Requirement already satisfied: numba<0.61.0,>=0.60.0 in /usr/local/lib/python3.10/dist-packages (from decoupler) (0.60.0)\n",
            "Requirement already satisfied: numpy<2,>=1 in /usr/local/lib/python3.10/dist-packages (from decoupler) (1.25.2)\n",
            "Requirement already satisfied: pandas<3.0.0,>=2.2.2 in /usr/local/lib/python3.10/dist-packages (from decoupler) (2.2.2)\n",
            "Requirement already satisfied: tqdm<5.0.0,>=4.66.4 in /usr/local/lib/python3.10/dist-packages (from decoupler) (4.66.4)\n",
            "Requirement already satisfied: typing-extensions<5.0.0,>=4.12.2 in /usr/local/lib/python3.10/dist-packages (from decoupler) (4.12.2)\n",
            "Requirement already satisfied: llvmlite<0.44,>=0.43.0dev0 in /usr/local/lib/python3.10/dist-packages (from numba<0.61.0,>=0.60.0->decoupler) (0.43.0)\n",
            "Requirement already satisfied: python-dateutil>=2.8.2 in /usr/local/lib/python3.10/dist-packages (from pandas<3.0.0,>=2.2.2->decoupler) (2.8.2)\n",
            "Requirement already satisfied: pytz>=2020.1 in /usr/local/lib/python3.10/dist-packages (from pandas<3.0.0,>=2.2.2->decoupler) (2023.4)\n",
            "Requirement already satisfied: tzdata>=2022.7 in /usr/local/lib/python3.10/dist-packages (from pandas<3.0.0,>=2.2.2->decoupler) (2024.1)\n",
            "Requirement already satisfied: six>=1.5 in /usr/local/lib/python3.10/dist-packages (from python-dateutil>=2.8.2->pandas<3.0.0,>=2.2.2->decoupler) (1.16.0)\n",
            "Requirement already satisfied: omnipath in /usr/local/lib/python3.10/dist-packages (1.0.8)\n",
            "Requirement already satisfied: attrs>=20.2.0 in /usr/local/lib/python3.10/dist-packages (from omnipath) (23.2.0)\n",
            "Requirement already satisfied: docrep>=0.3.1 in /usr/local/lib/python3.10/dist-packages (from omnipath) (0.3.2)\n",
            "Requirement already satisfied: inflect>=4.1.0 in /usr/local/lib/python3.10/dist-packages (from omnipath) (7.0.0)\n",
            "Requirement already satisfied: packaging in /usr/local/lib/python3.10/dist-packages (from omnipath) (24.1)\n",
            "Requirement already satisfied: pandas>=1.2.0 in /usr/local/lib/python3.10/dist-packages (from omnipath) (2.2.2)\n",
            "Requirement already satisfied: requests>=2.24.0 in /usr/local/lib/python3.10/dist-packages (from omnipath) (2.31.0)\n",
            "Requirement already satisfied: tqdm>=4.51.0 in /usr/local/lib/python3.10/dist-packages (from omnipath) (4.66.4)\n",
            "Requirement already satisfied: typing-extensions>=3.7.4.3 in /usr/local/lib/python3.10/dist-packages (from omnipath) (4.12.2)\n",
            "Requirement already satisfied: urllib3>=1.26.0 in /usr/local/lib/python3.10/dist-packages (from omnipath) (2.0.7)\n",
            "Requirement already satisfied: wrapt>=1.12.0 in /usr/local/lib/python3.10/dist-packages (from omnipath) (1.14.1)\n",
            "Requirement already satisfied: six in /usr/local/lib/python3.10/dist-packages (from docrep>=0.3.1->omnipath) (1.16.0)\n",
            "Requirement already satisfied: pydantic>=1.9.1 in /usr/local/lib/python3.10/dist-packages (from inflect>=4.1.0->omnipath) (2.8.0)\n",
            "Requirement already satisfied: numpy>=1.22.4 in /usr/local/lib/python3.10/dist-packages (from pandas>=1.2.0->omnipath) (1.25.2)\n",
            "Requirement already satisfied: python-dateutil>=2.8.2 in /usr/local/lib/python3.10/dist-packages (from pandas>=1.2.0->omnipath) (2.8.2)\n",
            "Requirement already satisfied: pytz>=2020.1 in /usr/local/lib/python3.10/dist-packages (from pandas>=1.2.0->omnipath) (2023.4)\n",
            "Requirement already satisfied: tzdata>=2022.7 in /usr/local/lib/python3.10/dist-packages (from pandas>=1.2.0->omnipath) (2024.1)\n",
            "Requirement already satisfied: charset-normalizer<4,>=2 in /usr/local/lib/python3.10/dist-packages (from requests>=2.24.0->omnipath) (3.3.2)\n",
            "Requirement already satisfied: idna<4,>=2.5 in /usr/local/lib/python3.10/dist-packages (from requests>=2.24.0->omnipath) (3.7)\n",
            "Requirement already satisfied: certifi>=2017.4.17 in /usr/local/lib/python3.10/dist-packages (from requests>=2.24.0->omnipath) (2024.6.2)\n",
            "Requirement already satisfied: annotated-types>=0.4.0 in /usr/local/lib/python3.10/dist-packages (from pydantic>=1.9.1->inflect>=4.1.0->omnipath) (0.7.0)\n",
            "Requirement already satisfied: pydantic-core==2.20.0 in /usr/local/lib/python3.10/dist-packages (from pydantic>=1.9.1->inflect>=4.1.0->omnipath) (2.20.0)\n"
          ]
        }
      ]
    },
    {
      "cell_type": "code",
      "source": [
        "import decoupler as dc"
      ],
      "metadata": {
        "id": "MFNw2IERLnZl"
      },
      "execution_count": null,
      "outputs": []
    },
    {
      "cell_type": "code",
      "source": [
        "markers = dc.get_resource('PanglaoDB')\n",
        "markers"
      ],
      "metadata": {
        "id": "NRsRYulYKxAo",
        "colab": {
          "base_uri": "https://localhost:8080/",
          "height": 629,
          "referenced_widgets": [
            "20779667a6134a50975d4bc8bcf6f2f0",
            "24c5aae059874a3ea3383a243c00a179",
            "24bb6bcc697d4c659fee79ac6ac4d4c7",
            "4df00f4a2f0145cb9a343aed472fcb72",
            "d3503fcd524a4f959acb53abd1d8e853",
            "4d6823f3c0864178823bb2bce883bc8f",
            "b983abd4b90f47dbbde7f3638443a1f7",
            "78cddd09a727462c867e38d0c43e4db5",
            "bad2b65fa95f4ba6b800ce6a51237931",
            "f26b0580ca064f5da2307123824dc50d",
            "03e781147e2d4ea2a33d5d529ef9d99e",
            "a04853b2670c482d9d64e27e831a0645",
            "7a19f2d2ef4c478db2e818e7ae2e53f5",
            "94729f136cff4965b06621a8adb0db74",
            "cc26cfd392db4e56ae5b378d98a08204",
            "c39bd3c5da5946ac88f441650f6ec316",
            "f1de50c6735149b2844c59c6758ae19a",
            "c523a1bf32a84ea1ac1aba4546714c01",
            "f4594454a37d40e5a0c1114d98e5ba4c",
            "ce5788979a76400eb3077d0d6485fb64",
            "2a9c11b041064300b4701903c23ba027",
            "2bece4dba44442e5b9e2023c2b4a9819"
          ]
        },
        "outputId": "c3f52b92-f47b-4734-ee6d-e7a6d624276f"
      },
      "execution_count": null,
      "outputs": [
        {
          "output_type": "display_data",
          "data": {
            "text/plain": [
              "0.00B [00:00, ?B/s]"
            ],
            "application/vnd.jupyter.widget-view+json": {
              "version_major": 2,
              "version_minor": 0,
              "model_id": "20779667a6134a50975d4bc8bcf6f2f0"
            }
          },
          "metadata": {}
        },
        {
          "output_type": "display_data",
          "data": {
            "text/plain": [
              "0.00B [00:00, ?B/s]"
            ],
            "application/vnd.jupyter.widget-view+json": {
              "version_major": 2,
              "version_minor": 0,
              "model_id": "a04853b2670c482d9d64e27e831a0645"
            }
          },
          "metadata": {}
        },
        {
          "output_type": "execute_result",
          "data": {
            "text/plain": [
              "     genesymbol  canonical_marker          cell_type germ_layer  human  \\\n",
              "0         CTRB1             False        Enterocytes   Endoderm   True   \n",
              "1         CTRB1              True       Acinar cells   Endoderm   True   \n",
              "2          KLK1              True  Endothelial cells   Mesoderm   True   \n",
              "3          KLK1             False       Goblet cells   Endoderm   True   \n",
              "4          KLK1             False   Epithelial cells   Mesoderm   True   \n",
              "...         ...               ...                ...        ...    ...   \n",
              "8456    SLC14A1              True   Urothelial cells   Mesoderm   True   \n",
              "8457      UPK3A              True   Urothelial cells   Mesoderm   True   \n",
              "8458      UPK1A              True   Urothelial cells   Mesoderm   True   \n",
              "8459       UPK2              True   Urothelial cells   Mesoderm   True   \n",
              "8460      UPK3B              True   Urothelial cells   Mesoderm   True   \n",
              "\n",
              "      human_sensitivity  human_specificity  mouse  mouse_sensitivity  \\\n",
              "0              0.000000           0.004394   True           0.003311   \n",
              "1              1.000000           0.000629   True           0.957143   \n",
              "2              0.000000           0.008420   True           0.000000   \n",
              "3              0.588235           0.005039   True           0.903226   \n",
              "4              0.000000           0.008233   True           0.225806   \n",
              "...                 ...                ...    ...                ...   \n",
              "8456           0.000000           0.018170   True           0.000000   \n",
              "8457           0.000000           0.000000   True           0.000000   \n",
              "8458           0.000000           0.000000   True           0.000000   \n",
              "8459           0.000000           0.000000   True           0.000000   \n",
              "8460           0.000000           0.000000   True           0.000000   \n",
              "\n",
              "      mouse_specificity  ncbi_tax_id            organ  ubiquitiousness  \n",
              "0              0.020480         9606         GI tract            0.017  \n",
              "1              0.015920         9606         Pancreas            0.017  \n",
              "2              0.014915         9606      Vasculature            0.013  \n",
              "3              0.012408         9606         GI tract            0.013  \n",
              "4              0.013758         9606       Epithelium            0.013  \n",
              "...                 ...          ...              ...              ...  \n",
              "8456           0.000000         9606  Urinary bladder            0.008  \n",
              "8457           0.000000         9606  Urinary bladder            0.000  \n",
              "8458           0.000000         9606  Urinary bladder            0.000  \n",
              "8459           0.000000         9606  Urinary bladder            0.000  \n",
              "8460           0.000000         9606  Urinary bladder            0.000  \n",
              "\n",
              "[8461 rows x 13 columns]"
            ],
            "text/html": [
              "\n",
              "  <div id=\"df-72e0a606-4670-4586-9ca9-93d1a32da874\" class=\"colab-df-container\">\n",
              "    <div>\n",
              "<style scoped>\n",
              "    .dataframe tbody tr th:only-of-type {\n",
              "        vertical-align: middle;\n",
              "    }\n",
              "\n",
              "    .dataframe tbody tr th {\n",
              "        vertical-align: top;\n",
              "    }\n",
              "\n",
              "    .dataframe thead th {\n",
              "        text-align: right;\n",
              "    }\n",
              "</style>\n",
              "<table border=\"1\" class=\"dataframe\">\n",
              "  <thead>\n",
              "    <tr style=\"text-align: right;\">\n",
              "      <th></th>\n",
              "      <th>genesymbol</th>\n",
              "      <th>canonical_marker</th>\n",
              "      <th>cell_type</th>\n",
              "      <th>germ_layer</th>\n",
              "      <th>human</th>\n",
              "      <th>human_sensitivity</th>\n",
              "      <th>human_specificity</th>\n",
              "      <th>mouse</th>\n",
              "      <th>mouse_sensitivity</th>\n",
              "      <th>mouse_specificity</th>\n",
              "      <th>ncbi_tax_id</th>\n",
              "      <th>organ</th>\n",
              "      <th>ubiquitiousness</th>\n",
              "    </tr>\n",
              "  </thead>\n",
              "  <tbody>\n",
              "    <tr>\n",
              "      <th>0</th>\n",
              "      <td>CTRB1</td>\n",
              "      <td>False</td>\n",
              "      <td>Enterocytes</td>\n",
              "      <td>Endoderm</td>\n",
              "      <td>True</td>\n",
              "      <td>0.000000</td>\n",
              "      <td>0.004394</td>\n",
              "      <td>True</td>\n",
              "      <td>0.003311</td>\n",
              "      <td>0.020480</td>\n",
              "      <td>9606</td>\n",
              "      <td>GI tract</td>\n",
              "      <td>0.017</td>\n",
              "    </tr>\n",
              "    <tr>\n",
              "      <th>1</th>\n",
              "      <td>CTRB1</td>\n",
              "      <td>True</td>\n",
              "      <td>Acinar cells</td>\n",
              "      <td>Endoderm</td>\n",
              "      <td>True</td>\n",
              "      <td>1.000000</td>\n",
              "      <td>0.000629</td>\n",
              "      <td>True</td>\n",
              "      <td>0.957143</td>\n",
              "      <td>0.015920</td>\n",
              "      <td>9606</td>\n",
              "      <td>Pancreas</td>\n",
              "      <td>0.017</td>\n",
              "    </tr>\n",
              "    <tr>\n",
              "      <th>2</th>\n",
              "      <td>KLK1</td>\n",
              "      <td>True</td>\n",
              "      <td>Endothelial cells</td>\n",
              "      <td>Mesoderm</td>\n",
              "      <td>True</td>\n",
              "      <td>0.000000</td>\n",
              "      <td>0.008420</td>\n",
              "      <td>True</td>\n",
              "      <td>0.000000</td>\n",
              "      <td>0.014915</td>\n",
              "      <td>9606</td>\n",
              "      <td>Vasculature</td>\n",
              "      <td>0.013</td>\n",
              "    </tr>\n",
              "    <tr>\n",
              "      <th>3</th>\n",
              "      <td>KLK1</td>\n",
              "      <td>False</td>\n",
              "      <td>Goblet cells</td>\n",
              "      <td>Endoderm</td>\n",
              "      <td>True</td>\n",
              "      <td>0.588235</td>\n",
              "      <td>0.005039</td>\n",
              "      <td>True</td>\n",
              "      <td>0.903226</td>\n",
              "      <td>0.012408</td>\n",
              "      <td>9606</td>\n",
              "      <td>GI tract</td>\n",
              "      <td>0.013</td>\n",
              "    </tr>\n",
              "    <tr>\n",
              "      <th>4</th>\n",
              "      <td>KLK1</td>\n",
              "      <td>False</td>\n",
              "      <td>Epithelial cells</td>\n",
              "      <td>Mesoderm</td>\n",
              "      <td>True</td>\n",
              "      <td>0.000000</td>\n",
              "      <td>0.008233</td>\n",
              "      <td>True</td>\n",
              "      <td>0.225806</td>\n",
              "      <td>0.013758</td>\n",
              "      <td>9606</td>\n",
              "      <td>Epithelium</td>\n",
              "      <td>0.013</td>\n",
              "    </tr>\n",
              "    <tr>\n",
              "      <th>...</th>\n",
              "      <td>...</td>\n",
              "      <td>...</td>\n",
              "      <td>...</td>\n",
              "      <td>...</td>\n",
              "      <td>...</td>\n",
              "      <td>...</td>\n",
              "      <td>...</td>\n",
              "      <td>...</td>\n",
              "      <td>...</td>\n",
              "      <td>...</td>\n",
              "      <td>...</td>\n",
              "      <td>...</td>\n",
              "      <td>...</td>\n",
              "    </tr>\n",
              "    <tr>\n",
              "      <th>8456</th>\n",
              "      <td>SLC14A1</td>\n",
              "      <td>True</td>\n",
              "      <td>Urothelial cells</td>\n",
              "      <td>Mesoderm</td>\n",
              "      <td>True</td>\n",
              "      <td>0.000000</td>\n",
              "      <td>0.018170</td>\n",
              "      <td>True</td>\n",
              "      <td>0.000000</td>\n",
              "      <td>0.000000</td>\n",
              "      <td>9606</td>\n",
              "      <td>Urinary bladder</td>\n",
              "      <td>0.008</td>\n",
              "    </tr>\n",
              "    <tr>\n",
              "      <th>8457</th>\n",
              "      <td>UPK3A</td>\n",
              "      <td>True</td>\n",
              "      <td>Urothelial cells</td>\n",
              "      <td>Mesoderm</td>\n",
              "      <td>True</td>\n",
              "      <td>0.000000</td>\n",
              "      <td>0.000000</td>\n",
              "      <td>True</td>\n",
              "      <td>0.000000</td>\n",
              "      <td>0.000000</td>\n",
              "      <td>9606</td>\n",
              "      <td>Urinary bladder</td>\n",
              "      <td>0.000</td>\n",
              "    </tr>\n",
              "    <tr>\n",
              "      <th>8458</th>\n",
              "      <td>UPK1A</td>\n",
              "      <td>True</td>\n",
              "      <td>Urothelial cells</td>\n",
              "      <td>Mesoderm</td>\n",
              "      <td>True</td>\n",
              "      <td>0.000000</td>\n",
              "      <td>0.000000</td>\n",
              "      <td>True</td>\n",
              "      <td>0.000000</td>\n",
              "      <td>0.000000</td>\n",
              "      <td>9606</td>\n",
              "      <td>Urinary bladder</td>\n",
              "      <td>0.000</td>\n",
              "    </tr>\n",
              "    <tr>\n",
              "      <th>8459</th>\n",
              "      <td>UPK2</td>\n",
              "      <td>True</td>\n",
              "      <td>Urothelial cells</td>\n",
              "      <td>Mesoderm</td>\n",
              "      <td>True</td>\n",
              "      <td>0.000000</td>\n",
              "      <td>0.000000</td>\n",
              "      <td>True</td>\n",
              "      <td>0.000000</td>\n",
              "      <td>0.000000</td>\n",
              "      <td>9606</td>\n",
              "      <td>Urinary bladder</td>\n",
              "      <td>0.000</td>\n",
              "    </tr>\n",
              "    <tr>\n",
              "      <th>8460</th>\n",
              "      <td>UPK3B</td>\n",
              "      <td>True</td>\n",
              "      <td>Urothelial cells</td>\n",
              "      <td>Mesoderm</td>\n",
              "      <td>True</td>\n",
              "      <td>0.000000</td>\n",
              "      <td>0.000000</td>\n",
              "      <td>True</td>\n",
              "      <td>0.000000</td>\n",
              "      <td>0.000000</td>\n",
              "      <td>9606</td>\n",
              "      <td>Urinary bladder</td>\n",
              "      <td>0.000</td>\n",
              "    </tr>\n",
              "  </tbody>\n",
              "</table>\n",
              "<p>8461 rows × 13 columns</p>\n",
              "</div>\n",
              "    <div class=\"colab-df-buttons\">\n",
              "\n",
              "  <div class=\"colab-df-container\">\n",
              "    <button class=\"colab-df-convert\" onclick=\"convertToInteractive('df-72e0a606-4670-4586-9ca9-93d1a32da874')\"\n",
              "            title=\"Convert this dataframe to an interactive table.\"\n",
              "            style=\"display:none;\">\n",
              "\n",
              "  <svg xmlns=\"http://www.w3.org/2000/svg\" height=\"24px\" viewBox=\"0 -960 960 960\">\n",
              "    <path d=\"M120-120v-720h720v720H120Zm60-500h600v-160H180v160Zm220 220h160v-160H400v160Zm0 220h160v-160H400v160ZM180-400h160v-160H180v160Zm440 0h160v-160H620v160ZM180-180h160v-160H180v160Zm440 0h160v-160H620v160Z\"/>\n",
              "  </svg>\n",
              "    </button>\n",
              "\n",
              "  <style>\n",
              "    .colab-df-container {\n",
              "      display:flex;\n",
              "      gap: 12px;\n",
              "    }\n",
              "\n",
              "    .colab-df-convert {\n",
              "      background-color: #E8F0FE;\n",
              "      border: none;\n",
              "      border-radius: 50%;\n",
              "      cursor: pointer;\n",
              "      display: none;\n",
              "      fill: #1967D2;\n",
              "      height: 32px;\n",
              "      padding: 0 0 0 0;\n",
              "      width: 32px;\n",
              "    }\n",
              "\n",
              "    .colab-df-convert:hover {\n",
              "      background-color: #E2EBFA;\n",
              "      box-shadow: 0px 1px 2px rgba(60, 64, 67, 0.3), 0px 1px 3px 1px rgba(60, 64, 67, 0.15);\n",
              "      fill: #174EA6;\n",
              "    }\n",
              "\n",
              "    .colab-df-buttons div {\n",
              "      margin-bottom: 4px;\n",
              "    }\n",
              "\n",
              "    [theme=dark] .colab-df-convert {\n",
              "      background-color: #3B4455;\n",
              "      fill: #D2E3FC;\n",
              "    }\n",
              "\n",
              "    [theme=dark] .colab-df-convert:hover {\n",
              "      background-color: #434B5C;\n",
              "      box-shadow: 0px 1px 3px 1px rgba(0, 0, 0, 0.15);\n",
              "      filter: drop-shadow(0px 1px 2px rgba(0, 0, 0, 0.3));\n",
              "      fill: #FFFFFF;\n",
              "    }\n",
              "  </style>\n",
              "\n",
              "    <script>\n",
              "      const buttonEl =\n",
              "        document.querySelector('#df-72e0a606-4670-4586-9ca9-93d1a32da874 button.colab-df-convert');\n",
              "      buttonEl.style.display =\n",
              "        google.colab.kernel.accessAllowed ? 'block' : 'none';\n",
              "\n",
              "      async function convertToInteractive(key) {\n",
              "        const element = document.querySelector('#df-72e0a606-4670-4586-9ca9-93d1a32da874');\n",
              "        const dataTable =\n",
              "          await google.colab.kernel.invokeFunction('convertToInteractive',\n",
              "                                                    [key], {});\n",
              "        if (!dataTable) return;\n",
              "\n",
              "        const docLinkHtml = 'Like what you see? Visit the ' +\n",
              "          '<a target=\"_blank\" href=https://colab.research.google.com/notebooks/data_table.ipynb>data table notebook</a>'\n",
              "          + ' to learn more about interactive tables.';\n",
              "        element.innerHTML = '';\n",
              "        dataTable['output_type'] = 'display_data';\n",
              "        await google.colab.output.renderOutput(dataTable, element);\n",
              "        const docLink = document.createElement('div');\n",
              "        docLink.innerHTML = docLinkHtml;\n",
              "        element.appendChild(docLink);\n",
              "      }\n",
              "    </script>\n",
              "  </div>\n",
              "\n",
              "\n",
              "<div id=\"df-f7821682-2ec9-4d16-975b-9b35caa6e99c\">\n",
              "  <button class=\"colab-df-quickchart\" onclick=\"quickchart('df-f7821682-2ec9-4d16-975b-9b35caa6e99c')\"\n",
              "            title=\"Suggest charts\"\n",
              "            style=\"display:none;\">\n",
              "\n",
              "<svg xmlns=\"http://www.w3.org/2000/svg\" height=\"24px\"viewBox=\"0 0 24 24\"\n",
              "     width=\"24px\">\n",
              "    <g>\n",
              "        <path d=\"M19 3H5c-1.1 0-2 .9-2 2v14c0 1.1.9 2 2 2h14c1.1 0 2-.9 2-2V5c0-1.1-.9-2-2-2zM9 17H7v-7h2v7zm4 0h-2V7h2v10zm4 0h-2v-4h2v4z\"/>\n",
              "    </g>\n",
              "</svg>\n",
              "  </button>\n",
              "\n",
              "<style>\n",
              "  .colab-df-quickchart {\n",
              "      --bg-color: #E8F0FE;\n",
              "      --fill-color: #1967D2;\n",
              "      --hover-bg-color: #E2EBFA;\n",
              "      --hover-fill-color: #174EA6;\n",
              "      --disabled-fill-color: #AAA;\n",
              "      --disabled-bg-color: #DDD;\n",
              "  }\n",
              "\n",
              "  [theme=dark] .colab-df-quickchart {\n",
              "      --bg-color: #3B4455;\n",
              "      --fill-color: #D2E3FC;\n",
              "      --hover-bg-color: #434B5C;\n",
              "      --hover-fill-color: #FFFFFF;\n",
              "      --disabled-bg-color: #3B4455;\n",
              "      --disabled-fill-color: #666;\n",
              "  }\n",
              "\n",
              "  .colab-df-quickchart {\n",
              "    background-color: var(--bg-color);\n",
              "    border: none;\n",
              "    border-radius: 50%;\n",
              "    cursor: pointer;\n",
              "    display: none;\n",
              "    fill: var(--fill-color);\n",
              "    height: 32px;\n",
              "    padding: 0;\n",
              "    width: 32px;\n",
              "  }\n",
              "\n",
              "  .colab-df-quickchart:hover {\n",
              "    background-color: var(--hover-bg-color);\n",
              "    box-shadow: 0 1px 2px rgba(60, 64, 67, 0.3), 0 1px 3px 1px rgba(60, 64, 67, 0.15);\n",
              "    fill: var(--button-hover-fill-color);\n",
              "  }\n",
              "\n",
              "  .colab-df-quickchart-complete:disabled,\n",
              "  .colab-df-quickchart-complete:disabled:hover {\n",
              "    background-color: var(--disabled-bg-color);\n",
              "    fill: var(--disabled-fill-color);\n",
              "    box-shadow: none;\n",
              "  }\n",
              "\n",
              "  .colab-df-spinner {\n",
              "    border: 2px solid var(--fill-color);\n",
              "    border-color: transparent;\n",
              "    border-bottom-color: var(--fill-color);\n",
              "    animation:\n",
              "      spin 1s steps(1) infinite;\n",
              "  }\n",
              "\n",
              "  @keyframes spin {\n",
              "    0% {\n",
              "      border-color: transparent;\n",
              "      border-bottom-color: var(--fill-color);\n",
              "      border-left-color: var(--fill-color);\n",
              "    }\n",
              "    20% {\n",
              "      border-color: transparent;\n",
              "      border-left-color: var(--fill-color);\n",
              "      border-top-color: var(--fill-color);\n",
              "    }\n",
              "    30% {\n",
              "      border-color: transparent;\n",
              "      border-left-color: var(--fill-color);\n",
              "      border-top-color: var(--fill-color);\n",
              "      border-right-color: var(--fill-color);\n",
              "    }\n",
              "    40% {\n",
              "      border-color: transparent;\n",
              "      border-right-color: var(--fill-color);\n",
              "      border-top-color: var(--fill-color);\n",
              "    }\n",
              "    60% {\n",
              "      border-color: transparent;\n",
              "      border-right-color: var(--fill-color);\n",
              "    }\n",
              "    80% {\n",
              "      border-color: transparent;\n",
              "      border-right-color: var(--fill-color);\n",
              "      border-bottom-color: var(--fill-color);\n",
              "    }\n",
              "    90% {\n",
              "      border-color: transparent;\n",
              "      border-bottom-color: var(--fill-color);\n",
              "    }\n",
              "  }\n",
              "</style>\n",
              "\n",
              "  <script>\n",
              "    async function quickchart(key) {\n",
              "      const quickchartButtonEl =\n",
              "        document.querySelector('#' + key + ' button');\n",
              "      quickchartButtonEl.disabled = true;  // To prevent multiple clicks.\n",
              "      quickchartButtonEl.classList.add('colab-df-spinner');\n",
              "      try {\n",
              "        const charts = await google.colab.kernel.invokeFunction(\n",
              "            'suggestCharts', [key], {});\n",
              "      } catch (error) {\n",
              "        console.error('Error during call to suggestCharts:', error);\n",
              "      }\n",
              "      quickchartButtonEl.classList.remove('colab-df-spinner');\n",
              "      quickchartButtonEl.classList.add('colab-df-quickchart-complete');\n",
              "    }\n",
              "    (() => {\n",
              "      let quickchartButtonEl =\n",
              "        document.querySelector('#df-f7821682-2ec9-4d16-975b-9b35caa6e99c button');\n",
              "      quickchartButtonEl.style.display =\n",
              "        google.colab.kernel.accessAllowed ? 'block' : 'none';\n",
              "    })();\n",
              "  </script>\n",
              "</div>\n",
              "\n",
              "  <div id=\"id_5a759448-ea0b-42f6-966d-33d3a0b53911\">\n",
              "    <style>\n",
              "      .colab-df-generate {\n",
              "        background-color: #E8F0FE;\n",
              "        border: none;\n",
              "        border-radius: 50%;\n",
              "        cursor: pointer;\n",
              "        display: none;\n",
              "        fill: #1967D2;\n",
              "        height: 32px;\n",
              "        padding: 0 0 0 0;\n",
              "        width: 32px;\n",
              "      }\n",
              "\n",
              "      .colab-df-generate:hover {\n",
              "        background-color: #E2EBFA;\n",
              "        box-shadow: 0px 1px 2px rgba(60, 64, 67, 0.3), 0px 1px 3px 1px rgba(60, 64, 67, 0.15);\n",
              "        fill: #174EA6;\n",
              "      }\n",
              "\n",
              "      [theme=dark] .colab-df-generate {\n",
              "        background-color: #3B4455;\n",
              "        fill: #D2E3FC;\n",
              "      }\n",
              "\n",
              "      [theme=dark] .colab-df-generate:hover {\n",
              "        background-color: #434B5C;\n",
              "        box-shadow: 0px 1px 3px 1px rgba(0, 0, 0, 0.15);\n",
              "        filter: drop-shadow(0px 1px 2px rgba(0, 0, 0, 0.3));\n",
              "        fill: #FFFFFF;\n",
              "      }\n",
              "    </style>\n",
              "    <button class=\"colab-df-generate\" onclick=\"generateWithVariable('markers')\"\n",
              "            title=\"Generate code using this dataframe.\"\n",
              "            style=\"display:none;\">\n",
              "\n",
              "  <svg xmlns=\"http://www.w3.org/2000/svg\" height=\"24px\"viewBox=\"0 0 24 24\"\n",
              "       width=\"24px\">\n",
              "    <path d=\"M7,19H8.4L18.45,9,17,7.55,7,17.6ZM5,21V16.75L18.45,3.32a2,2,0,0,1,2.83,0l1.4,1.43a1.91,1.91,0,0,1,.58,1.4,1.91,1.91,0,0,1-.58,1.4L9.25,21ZM18.45,9,17,7.55Zm-12,3A5.31,5.31,0,0,0,4.9,8.1,5.31,5.31,0,0,0,1,6.5,5.31,5.31,0,0,0,4.9,4.9,5.31,5.31,0,0,0,6.5,1,5.31,5.31,0,0,0,8.1,4.9,5.31,5.31,0,0,0,12,6.5,5.46,5.46,0,0,0,6.5,12Z\"/>\n",
              "  </svg>\n",
              "    </button>\n",
              "    <script>\n",
              "      (() => {\n",
              "      const buttonEl =\n",
              "        document.querySelector('#id_5a759448-ea0b-42f6-966d-33d3a0b53911 button.colab-df-generate');\n",
              "      buttonEl.style.display =\n",
              "        google.colab.kernel.accessAllowed ? 'block' : 'none';\n",
              "\n",
              "      buttonEl.onclick = () => {\n",
              "        google.colab.notebook.generateWithVariable('markers');\n",
              "      }\n",
              "      })();\n",
              "    </script>\n",
              "  </div>\n",
              "\n",
              "    </div>\n",
              "  </div>\n"
            ],
            "application/vnd.google.colaboratory.intrinsic+json": {
              "type": "dataframe",
              "variable_name": "markers",
              "summary": "{\n  \"name\": \"markers\",\n  \"rows\": 8461,\n  \"fields\": [\n    {\n      \"column\": \"genesymbol\",\n      \"properties\": {\n        \"dtype\": \"string\",\n        \"num_unique_values\": 4767,\n        \"samples\": [\n          \"STRN\",\n          \"KLF2\",\n          \"PBX2\"\n        ],\n        \"semantic_type\": \"\",\n        \"description\": \"\"\n      }\n    },\n    {\n      \"column\": \"canonical_marker\",\n      \"properties\": {\n        \"dtype\": \"boolean\",\n        \"num_unique_values\": 2,\n        \"samples\": [\n          true,\n          false\n        ],\n        \"semantic_type\": \"\",\n        \"description\": \"\"\n      }\n    },\n    {\n      \"column\": \"cell_type\",\n      \"properties\": {\n        \"dtype\": \"category\",\n        \"num_unique_values\": 178,\n        \"samples\": [\n          \"Pulmonary alveolar type II cells\",\n          \"Myoblasts\"\n        ],\n        \"semantic_type\": \"\",\n        \"description\": \"\"\n      }\n    },\n    {\n      \"column\": \"germ_layer\",\n      \"properties\": {\n        \"dtype\": \"category\",\n        \"num_unique_values\": 7,\n        \"samples\": [\n          \"Endoderm\",\n          \"Mesoderm\"\n        ],\n        \"semantic_type\": \"\",\n        \"description\": \"\"\n      }\n    },\n    {\n      \"column\": \"human\",\n      \"properties\": {\n        \"dtype\": \"boolean\",\n        \"num_unique_values\": 2,\n        \"samples\": [\n          false,\n          true\n        ],\n        \"semantic_type\": \"\",\n        \"description\": \"\"\n      }\n    },\n    {\n      \"column\": \"human_sensitivity\",\n      \"properties\": {\n        \"dtype\": \"number\",\n        \"std\": 0.2726337631983721,\n        \"min\": 0.0,\n        \"max\": 1.0,\n        \"num_unique_values\": 673,\n        \"samples\": [\n          0.733333,\n          0.893333\n        ],\n        \"semantic_type\": \"\",\n        \"description\": \"\"\n      }\n    },\n    {\n      \"column\": \"human_specificity\",\n      \"properties\": {\n        \"dtype\": \"number\",\n        \"std\": 0.06449465121099333,\n        \"min\": 0.0,\n        \"max\": 0.938596,\n        \"num_unique_values\": 2809,\n        \"samples\": [\n          0.0604637,\n          0.0160176\n        ],\n        \"semantic_type\": \"\",\n        \"description\": \"\"\n      }\n    },\n    {\n      \"column\": \"mouse\",\n      \"properties\": {\n        \"dtype\": \"boolean\",\n        \"num_unique_values\": 2,\n        \"samples\": [\n          false,\n          true\n        ],\n        \"semantic_type\": \"\",\n        \"description\": \"\"\n      }\n    },\n    {\n      \"column\": \"mouse_sensitivity\",\n      \"properties\": {\n        \"dtype\": \"number\",\n        \"std\": 0.32631329765885186,\n        \"min\": 0.0,\n        \"max\": 1.0,\n        \"num_unique_values\": 1663,\n        \"samples\": [\n          0.598485,\n          0.633333\n        ],\n        \"semantic_type\": \"\",\n        \"description\": \"\"\n      }\n    },\n    {\n      \"column\": \"mouse_specificity\",\n      \"properties\": {\n        \"dtype\": \"number\",\n        \"std\": 0.04702198869930904,\n        \"min\": 0.0,\n        \"max\": 0.890852,\n        \"num_unique_values\": 4784,\n        \"samples\": [\n          0.0493068,\n          0.237554\n        ],\n        \"semantic_type\": \"\",\n        \"description\": \"\"\n      }\n    },\n    {\n      \"column\": \"ncbi_tax_id\",\n      \"properties\": {\n        \"dtype\": \"number\",\n        \"std\": 112,\n        \"min\": 9606,\n        \"max\": 10090,\n        \"num_unique_values\": 2,\n        \"samples\": [\n          10090,\n          9606\n        ],\n        \"semantic_type\": \"\",\n        \"description\": \"\"\n      }\n    },\n    {\n      \"column\": \"organ\",\n      \"properties\": {\n        \"dtype\": \"category\",\n        \"num_unique_values\": 29,\n        \"samples\": [\n          \"Urinary bladder\",\n          \"Skeletal muscle\"\n        ],\n        \"semantic_type\": \"\",\n        \"description\": \"\"\n      }\n    },\n    {\n      \"column\": \"ubiquitiousness\",\n      \"properties\": {\n        \"dtype\": \"number\",\n        \"std\": 0.05212963305012061,\n        \"min\": 0.0,\n        \"max\": 0.854,\n        \"num_unique_values\": 258,\n        \"samples\": [\n          0.064,\n          0.283\n        ],\n        \"semantic_type\": \"\",\n        \"description\": \"\"\n      }\n    }\n  ]\n}"
            }
          },
          "metadata": {},
          "execution_count": 31
        }
      ]
    },
    {
      "cell_type": "code",
      "source": [
        "# Load cell type markers\n",
        "markers = dc.get_resource('PanglaoDB')\n",
        "# markers = markers[markers['human'] & markers['canonical_marker'] & (markers['human_sensitivity'] > 0.5)]\n",
        "markers = markers[~markers.duplicated(['cell_type', 'genesymbol'])]"
      ],
      "metadata": {
        "id": "vQgdVvXrNE1t"
      },
      "execution_count": null,
      "outputs": []
    },
    {
      "cell_type": "code",
      "source": [
        "# Perform ORA\n",
        "dc.run_ora(mat=adata_decoupler, net=markers, source='cell_type', target='genesymbol', min_n=3, verbose=True,use_raw=False)"
      ],
      "metadata": {
        "id": "d8ZpJm8nNUEL",
        "colab": {
          "base_uri": "https://localhost:8080/"
        },
        "outputId": "4903f1da-49fb-4ad4-b352-316da36fd5e9"
      },
      "execution_count": null,
      "outputs": [
        {
          "output_type": "stream",
          "name": "stdout",
          "text": [
            "16026 features of mat are empty, they will be removed.\n",
            "Running ora on mat with 2698 samples and 16617 targets for 164 sources.\n"
          ]
        },
        {
          "output_type": "stream",
          "name": "stderr",
          "text": [
            "100%|██████████| 2698/2698 [00:27<00:00, 99.65it/s] \n"
          ]
        }
      ]
    },
    {
      "cell_type": "code",
      "source": [
        "# Extract activities\n",
        "acts = dc.get_acts(adata_decoupler, obsm_key='ora_estimate')\n",
        "acts_v = acts.X.ravel()\n",
        "max_e = np.nanmax(acts_v[np.isfinite(acts_v)])\n",
        "acts.X[~np.isfinite(acts.X)] = max_e"
      ],
      "metadata": {
        "id": "Zy8VC2D5OFvk"
      },
      "execution_count": null,
      "outputs": []
    },
    {
      "cell_type": "code",
      "source": [
        "# Rank cell types for each cluster\n",
        "df_decoupler = dc.rank_sources_groups(acts, groupby='leiden', reference='rest', method='t-test_overestim_var')"
      ],
      "metadata": {
        "id": "QoHBuYXIOI3h"
      },
      "execution_count": null,
      "outputs": []
    },
    {
      "cell_type": "code",
      "source": [
        "acts.var"
      ],
      "metadata": {
        "colab": {
          "base_uri": "https://localhost:8080/",
          "height": 437
        },
        "id": "oQ4UCuUbVzV5",
        "outputId": "4477e7ec-bb51-47b8-9752-c76545f80fd3"
      },
      "execution_count": null,
      "outputs": [
        {
          "output_type": "execute_result",
          "data": {
            "text/plain": [
              "Empty DataFrame\n",
              "Columns: []\n",
              "Index: [Acinar cells, Adipocyte progenitor cells, Adipocytes, Adrenergic neurons, Airway goblet cells, Alpha cells, Alveolar macrophages, Anterior pituitary gland cells, Astrocytes, B cells, B cells memory, B cells naive, Basal cells, Basophils, Bergmann glia, Beta cells, Cajal-Retzius cells, Cardiac stem and precursor cells, Cardiomyocytes, Cholangiocytes, Chondrocytes, Choroid plexus cells, Chromaffin cells, Ciliated cells, Clara cells, Crypt cells, Decidual cells, Delta cells, Dendritic cells, Distal tubule cells, Dopaminergic neurons, Ductal cells, Embryonic stem cells, Endothelial cells, Endothelial cells (aorta), Endothelial cells (blood brain barrier), Enteric glia cells, Enteric neurons, Enterochromaffin cells, Enterocytes, Enteroendocrine cells, Eosinophils, Ependymal cells, Epiblast cells, Epithelial cells, Epsilon cells, Erythroblasts, Erythroid-like and erythroid precursor cells, Fibroblasts, Follicular cells, Foveolar cells, GABAergic neurons, Gamma (PP) cells, Gamma delta T cells, Gastric chief cells, Germ cells, Glomus cells, Goblet cells, Granulosa cells, Hematopoietic stem cells, Hepatic stellate cells, Hepatoblasts, Hepatocytes, Immature neurons, Intercalated cells, Interneurons, Ionocytes, Juxtaglomerular cells, Keratinocytes, Kupffer cells, Langerhans cells, Leydig cells, Loop of Henle cells, Luminal epithelial cells, Luteal cells, Macrophages, Mammary epithelial cells, Mast cells, Megakaryocytes, Melanocytes, Meningeal cells, Merkel cells, Mesangial cells, Mesothelial cells, Microfold cells, Microglia, Monocytes, Myeloid-derived suppressor cells, Myoblasts, Myocytes, Myoepithelial cells, Myofibroblasts, Müller cells, NK cells, Natural killer T cells, Neural stem/precursor cells, Neuroblasts, Neuroendocrine cells, Neurons, Neutrophils, ...]\n",
              "\n",
              "[164 rows x 0 columns]"
            ],
            "text/html": [
              "\n",
              "  <div id=\"df-f3a276c8-874a-4e5d-85aa-fb7868852710\" class=\"colab-df-container\">\n",
              "    <div>\n",
              "<style scoped>\n",
              "    .dataframe tbody tr th:only-of-type {\n",
              "        vertical-align: middle;\n",
              "    }\n",
              "\n",
              "    .dataframe tbody tr th {\n",
              "        vertical-align: top;\n",
              "    }\n",
              "\n",
              "    .dataframe thead th {\n",
              "        text-align: right;\n",
              "    }\n",
              "</style>\n",
              "<table border=\"1\" class=\"dataframe\">\n",
              "  <thead>\n",
              "    <tr style=\"text-align: right;\">\n",
              "      <th></th>\n",
              "    </tr>\n",
              "    <tr>\n",
              "      <th>source</th>\n",
              "    </tr>\n",
              "  </thead>\n",
              "  <tbody>\n",
              "    <tr>\n",
              "      <th>Acinar cells</th>\n",
              "    </tr>\n",
              "    <tr>\n",
              "      <th>Adipocyte progenitor cells</th>\n",
              "    </tr>\n",
              "    <tr>\n",
              "      <th>Adipocytes</th>\n",
              "    </tr>\n",
              "    <tr>\n",
              "      <th>Adrenergic neurons</th>\n",
              "    </tr>\n",
              "    <tr>\n",
              "      <th>Airway goblet cells</th>\n",
              "    </tr>\n",
              "    <tr>\n",
              "      <th>...</th>\n",
              "    </tr>\n",
              "    <tr>\n",
              "      <th>Trophoblast cells</th>\n",
              "    </tr>\n",
              "    <tr>\n",
              "      <th>Tuft cells</th>\n",
              "    </tr>\n",
              "    <tr>\n",
              "      <th>Undefined placental cells</th>\n",
              "    </tr>\n",
              "    <tr>\n",
              "      <th>Urothelial cells</th>\n",
              "    </tr>\n",
              "    <tr>\n",
              "      <th>Vascular smooth muscle cells</th>\n",
              "    </tr>\n",
              "  </tbody>\n",
              "</table>\n",
              "<p>164 rows × 0 columns</p>\n",
              "</div>\n",
              "    <div class=\"colab-df-buttons\">\n",
              "\n",
              "  <div class=\"colab-df-container\">\n",
              "    <button class=\"colab-df-convert\" onclick=\"convertToInteractive('df-f3a276c8-874a-4e5d-85aa-fb7868852710')\"\n",
              "            title=\"Convert this dataframe to an interactive table.\"\n",
              "            style=\"display:none;\">\n",
              "\n",
              "  <svg xmlns=\"http://www.w3.org/2000/svg\" height=\"24px\" viewBox=\"0 -960 960 960\">\n",
              "    <path d=\"M120-120v-720h720v720H120Zm60-500h600v-160H180v160Zm220 220h160v-160H400v160Zm0 220h160v-160H400v160ZM180-400h160v-160H180v160Zm440 0h160v-160H620v160ZM180-180h160v-160H180v160Zm440 0h160v-160H620v160Z\"/>\n",
              "  </svg>\n",
              "    </button>\n",
              "\n",
              "  <style>\n",
              "    .colab-df-container {\n",
              "      display:flex;\n",
              "      gap: 12px;\n",
              "    }\n",
              "\n",
              "    .colab-df-convert {\n",
              "      background-color: #E8F0FE;\n",
              "      border: none;\n",
              "      border-radius: 50%;\n",
              "      cursor: pointer;\n",
              "      display: none;\n",
              "      fill: #1967D2;\n",
              "      height: 32px;\n",
              "      padding: 0 0 0 0;\n",
              "      width: 32px;\n",
              "    }\n",
              "\n",
              "    .colab-df-convert:hover {\n",
              "      background-color: #E2EBFA;\n",
              "      box-shadow: 0px 1px 2px rgba(60, 64, 67, 0.3), 0px 1px 3px 1px rgba(60, 64, 67, 0.15);\n",
              "      fill: #174EA6;\n",
              "    }\n",
              "\n",
              "    .colab-df-buttons div {\n",
              "      margin-bottom: 4px;\n",
              "    }\n",
              "\n",
              "    [theme=dark] .colab-df-convert {\n",
              "      background-color: #3B4455;\n",
              "      fill: #D2E3FC;\n",
              "    }\n",
              "\n",
              "    [theme=dark] .colab-df-convert:hover {\n",
              "      background-color: #434B5C;\n",
              "      box-shadow: 0px 1px 3px 1px rgba(0, 0, 0, 0.15);\n",
              "      filter: drop-shadow(0px 1px 2px rgba(0, 0, 0, 0.3));\n",
              "      fill: #FFFFFF;\n",
              "    }\n",
              "  </style>\n",
              "\n",
              "    <script>\n",
              "      const buttonEl =\n",
              "        document.querySelector('#df-f3a276c8-874a-4e5d-85aa-fb7868852710 button.colab-df-convert');\n",
              "      buttonEl.style.display =\n",
              "        google.colab.kernel.accessAllowed ? 'block' : 'none';\n",
              "\n",
              "      async function convertToInteractive(key) {\n",
              "        const element = document.querySelector('#df-f3a276c8-874a-4e5d-85aa-fb7868852710');\n",
              "        const dataTable =\n",
              "          await google.colab.kernel.invokeFunction('convertToInteractive',\n",
              "                                                    [key], {});\n",
              "        if (!dataTable) return;\n",
              "\n",
              "        const docLinkHtml = 'Like what you see? Visit the ' +\n",
              "          '<a target=\"_blank\" href=https://colab.research.google.com/notebooks/data_table.ipynb>data table notebook</a>'\n",
              "          + ' to learn more about interactive tables.';\n",
              "        element.innerHTML = '';\n",
              "        dataTable['output_type'] = 'display_data';\n",
              "        await google.colab.output.renderOutput(dataTable, element);\n",
              "        const docLink = document.createElement('div');\n",
              "        docLink.innerHTML = docLinkHtml;\n",
              "        element.appendChild(docLink);\n",
              "      }\n",
              "    </script>\n",
              "  </div>\n",
              "\n",
              "\n",
              "<div id=\"df-3ebf141e-d6da-4b87-bd90-68f6e7cf1251\">\n",
              "  <button class=\"colab-df-quickchart\" onclick=\"quickchart('df-3ebf141e-d6da-4b87-bd90-68f6e7cf1251')\"\n",
              "            title=\"Suggest charts\"\n",
              "            style=\"display:none;\">\n",
              "\n",
              "<svg xmlns=\"http://www.w3.org/2000/svg\" height=\"24px\"viewBox=\"0 0 24 24\"\n",
              "     width=\"24px\">\n",
              "    <g>\n",
              "        <path d=\"M19 3H5c-1.1 0-2 .9-2 2v14c0 1.1.9 2 2 2h14c1.1 0 2-.9 2-2V5c0-1.1-.9-2-2-2zM9 17H7v-7h2v7zm4 0h-2V7h2v10zm4 0h-2v-4h2v4z\"/>\n",
              "    </g>\n",
              "</svg>\n",
              "  </button>\n",
              "\n",
              "<style>\n",
              "  .colab-df-quickchart {\n",
              "      --bg-color: #E8F0FE;\n",
              "      --fill-color: #1967D2;\n",
              "      --hover-bg-color: #E2EBFA;\n",
              "      --hover-fill-color: #174EA6;\n",
              "      --disabled-fill-color: #AAA;\n",
              "      --disabled-bg-color: #DDD;\n",
              "  }\n",
              "\n",
              "  [theme=dark] .colab-df-quickchart {\n",
              "      --bg-color: #3B4455;\n",
              "      --fill-color: #D2E3FC;\n",
              "      --hover-bg-color: #434B5C;\n",
              "      --hover-fill-color: #FFFFFF;\n",
              "      --disabled-bg-color: #3B4455;\n",
              "      --disabled-fill-color: #666;\n",
              "  }\n",
              "\n",
              "  .colab-df-quickchart {\n",
              "    background-color: var(--bg-color);\n",
              "    border: none;\n",
              "    border-radius: 50%;\n",
              "    cursor: pointer;\n",
              "    display: none;\n",
              "    fill: var(--fill-color);\n",
              "    height: 32px;\n",
              "    padding: 0;\n",
              "    width: 32px;\n",
              "  }\n",
              "\n",
              "  .colab-df-quickchart:hover {\n",
              "    background-color: var(--hover-bg-color);\n",
              "    box-shadow: 0 1px 2px rgba(60, 64, 67, 0.3), 0 1px 3px 1px rgba(60, 64, 67, 0.15);\n",
              "    fill: var(--button-hover-fill-color);\n",
              "  }\n",
              "\n",
              "  .colab-df-quickchart-complete:disabled,\n",
              "  .colab-df-quickchart-complete:disabled:hover {\n",
              "    background-color: var(--disabled-bg-color);\n",
              "    fill: var(--disabled-fill-color);\n",
              "    box-shadow: none;\n",
              "  }\n",
              "\n",
              "  .colab-df-spinner {\n",
              "    border: 2px solid var(--fill-color);\n",
              "    border-color: transparent;\n",
              "    border-bottom-color: var(--fill-color);\n",
              "    animation:\n",
              "      spin 1s steps(1) infinite;\n",
              "  }\n",
              "\n",
              "  @keyframes spin {\n",
              "    0% {\n",
              "      border-color: transparent;\n",
              "      border-bottom-color: var(--fill-color);\n",
              "      border-left-color: var(--fill-color);\n",
              "    }\n",
              "    20% {\n",
              "      border-color: transparent;\n",
              "      border-left-color: var(--fill-color);\n",
              "      border-top-color: var(--fill-color);\n",
              "    }\n",
              "    30% {\n",
              "      border-color: transparent;\n",
              "      border-left-color: var(--fill-color);\n",
              "      border-top-color: var(--fill-color);\n",
              "      border-right-color: var(--fill-color);\n",
              "    }\n",
              "    40% {\n",
              "      border-color: transparent;\n",
              "      border-right-color: var(--fill-color);\n",
              "      border-top-color: var(--fill-color);\n",
              "    }\n",
              "    60% {\n",
              "      border-color: transparent;\n",
              "      border-right-color: var(--fill-color);\n",
              "    }\n",
              "    80% {\n",
              "      border-color: transparent;\n",
              "      border-right-color: var(--fill-color);\n",
              "      border-bottom-color: var(--fill-color);\n",
              "    }\n",
              "    90% {\n",
              "      border-color: transparent;\n",
              "      border-bottom-color: var(--fill-color);\n",
              "    }\n",
              "  }\n",
              "</style>\n",
              "\n",
              "  <script>\n",
              "    async function quickchart(key) {\n",
              "      const quickchartButtonEl =\n",
              "        document.querySelector('#' + key + ' button');\n",
              "      quickchartButtonEl.disabled = true;  // To prevent multiple clicks.\n",
              "      quickchartButtonEl.classList.add('colab-df-spinner');\n",
              "      try {\n",
              "        const charts = await google.colab.kernel.invokeFunction(\n",
              "            'suggestCharts', [key], {});\n",
              "      } catch (error) {\n",
              "        console.error('Error during call to suggestCharts:', error);\n",
              "      }\n",
              "      quickchartButtonEl.classList.remove('colab-df-spinner');\n",
              "      quickchartButtonEl.classList.add('colab-df-quickchart-complete');\n",
              "    }\n",
              "    (() => {\n",
              "      let quickchartButtonEl =\n",
              "        document.querySelector('#df-3ebf141e-d6da-4b87-bd90-68f6e7cf1251 button');\n",
              "      quickchartButtonEl.style.display =\n",
              "        google.colab.kernel.accessAllowed ? 'block' : 'none';\n",
              "    })();\n",
              "  </script>\n",
              "</div>\n",
              "\n",
              "    </div>\n",
              "  </div>\n"
            ],
            "application/vnd.google.colaboratory.intrinsic+json": {
              "type": "dataframe",
              "summary": "{\n  \"name\": \"acts\",\n  \"rows\": 164,\n  \"fields\": [\n    {\n      \"column\": \"source\",\n      \"properties\": {\n        \"dtype\": \"category\",\n        \"num_unique_values\": 164,\n        \"samples\": [\n          \"Retinal progenitor cells\",\n          \"Pericytes\",\n          \"Radial glia cells\"\n        ],\n        \"semantic_type\": \"\",\n        \"description\": \"\"\n      }\n    }\n  ]\n}"
            }
          },
          "metadata": {},
          "execution_count": 72
        }
      ]
    },
    {
      "cell_type": "code",
      "source": [],
      "metadata": {
        "colab": {
          "base_uri": "https://localhost:8080/",
          "height": 597
        },
        "id": "JJW4FDfQRTAx",
        "outputId": "e5c0d502-3a1f-4fd8-fcd2-7d4f29d5c3ee"
      },
      "execution_count": null,
      "outputs": [
        {
          "output_type": "execute_result",
          "data": {
            "text/plain": [
              "     group reference                                         names  statistic  \\\n",
              "0        0      rest                                T memory cells  21.383565   \n",
              "1        0      rest                                T helper cells  17.475913   \n",
              "2        0      rest                     T follicular helper cells  14.618028   \n",
              "3        0      rest                                       T cells  14.052620   \n",
              "4        0      rest                             T cytotoxic cells  13.876045   \n",
              "...    ...       ...                                           ...        ...   \n",
              "1471     8      rest                              Langerhans cells  -6.279498   \n",
              "1472     8      rest                                     Monocytes  -6.289624   \n",
              "1473     8      rest  Erythroid-like and erythroid precursor cells  -6.393257   \n",
              "1474     8      rest                                     Microglia  -6.430277   \n",
              "1475     8      rest                               Dendritic cells  -8.699338   \n",
              "\n",
              "      meanchange         pvals     pvals_adj  \n",
              "0       4.007429  6.155398e-88  1.009485e-85  \n",
              "1       0.641888  1.801980e-61  7.388117e-60  \n",
              "2       0.399505  1.173670e-44  1.924819e-43  \n",
              "3       2.620811  7.143817e-42  9.012200e-41  \n",
              "4       0.731902  4.546358e-41  5.325734e-40  \n",
              "...          ...           ...           ...  \n",
              "1471   -1.211432  5.916203e-09  4.490522e-08  \n",
              "1472   -3.585543  5.698960e-09  4.490522e-08  \n",
              "1473   -0.477299  1.750609e-09  1.688823e-08  \n",
              "1474   -0.828033  2.164397e-09  1.868217e-08  \n",
              "1475   -2.958514  2.338414e-14  2.949999e-13  \n",
              "\n",
              "[1476 rows x 7 columns]"
            ],
            "text/html": [
              "\n",
              "  <div id=\"df-606df737-a271-44f0-afe5-591d63ccd953\" class=\"colab-df-container\">\n",
              "    <div>\n",
              "<style scoped>\n",
              "    .dataframe tbody tr th:only-of-type {\n",
              "        vertical-align: middle;\n",
              "    }\n",
              "\n",
              "    .dataframe tbody tr th {\n",
              "        vertical-align: top;\n",
              "    }\n",
              "\n",
              "    .dataframe thead th {\n",
              "        text-align: right;\n",
              "    }\n",
              "</style>\n",
              "<table border=\"1\" class=\"dataframe\">\n",
              "  <thead>\n",
              "    <tr style=\"text-align: right;\">\n",
              "      <th></th>\n",
              "      <th>group</th>\n",
              "      <th>reference</th>\n",
              "      <th>names</th>\n",
              "      <th>statistic</th>\n",
              "      <th>meanchange</th>\n",
              "      <th>pvals</th>\n",
              "      <th>pvals_adj</th>\n",
              "    </tr>\n",
              "  </thead>\n",
              "  <tbody>\n",
              "    <tr>\n",
              "      <th>0</th>\n",
              "      <td>0</td>\n",
              "      <td>rest</td>\n",
              "      <td>T memory cells</td>\n",
              "      <td>21.383565</td>\n",
              "      <td>4.007429</td>\n",
              "      <td>6.155398e-88</td>\n",
              "      <td>1.009485e-85</td>\n",
              "    </tr>\n",
              "    <tr>\n",
              "      <th>1</th>\n",
              "      <td>0</td>\n",
              "      <td>rest</td>\n",
              "      <td>T helper cells</td>\n",
              "      <td>17.475913</td>\n",
              "      <td>0.641888</td>\n",
              "      <td>1.801980e-61</td>\n",
              "      <td>7.388117e-60</td>\n",
              "    </tr>\n",
              "    <tr>\n",
              "      <th>2</th>\n",
              "      <td>0</td>\n",
              "      <td>rest</td>\n",
              "      <td>T follicular helper cells</td>\n",
              "      <td>14.618028</td>\n",
              "      <td>0.399505</td>\n",
              "      <td>1.173670e-44</td>\n",
              "      <td>1.924819e-43</td>\n",
              "    </tr>\n",
              "    <tr>\n",
              "      <th>3</th>\n",
              "      <td>0</td>\n",
              "      <td>rest</td>\n",
              "      <td>T cells</td>\n",
              "      <td>14.052620</td>\n",
              "      <td>2.620811</td>\n",
              "      <td>7.143817e-42</td>\n",
              "      <td>9.012200e-41</td>\n",
              "    </tr>\n",
              "    <tr>\n",
              "      <th>4</th>\n",
              "      <td>0</td>\n",
              "      <td>rest</td>\n",
              "      <td>T cytotoxic cells</td>\n",
              "      <td>13.876045</td>\n",
              "      <td>0.731902</td>\n",
              "      <td>4.546358e-41</td>\n",
              "      <td>5.325734e-40</td>\n",
              "    </tr>\n",
              "    <tr>\n",
              "      <th>...</th>\n",
              "      <td>...</td>\n",
              "      <td>...</td>\n",
              "      <td>...</td>\n",
              "      <td>...</td>\n",
              "      <td>...</td>\n",
              "      <td>...</td>\n",
              "      <td>...</td>\n",
              "    </tr>\n",
              "    <tr>\n",
              "      <th>1471</th>\n",
              "      <td>8</td>\n",
              "      <td>rest</td>\n",
              "      <td>Langerhans cells</td>\n",
              "      <td>-6.279498</td>\n",
              "      <td>-1.211432</td>\n",
              "      <td>5.916203e-09</td>\n",
              "      <td>4.490522e-08</td>\n",
              "    </tr>\n",
              "    <tr>\n",
              "      <th>1472</th>\n",
              "      <td>8</td>\n",
              "      <td>rest</td>\n",
              "      <td>Monocytes</td>\n",
              "      <td>-6.289624</td>\n",
              "      <td>-3.585543</td>\n",
              "      <td>5.698960e-09</td>\n",
              "      <td>4.490522e-08</td>\n",
              "    </tr>\n",
              "    <tr>\n",
              "      <th>1473</th>\n",
              "      <td>8</td>\n",
              "      <td>rest</td>\n",
              "      <td>Erythroid-like and erythroid precursor cells</td>\n",
              "      <td>-6.393257</td>\n",
              "      <td>-0.477299</td>\n",
              "      <td>1.750609e-09</td>\n",
              "      <td>1.688823e-08</td>\n",
              "    </tr>\n",
              "    <tr>\n",
              "      <th>1474</th>\n",
              "      <td>8</td>\n",
              "      <td>rest</td>\n",
              "      <td>Microglia</td>\n",
              "      <td>-6.430277</td>\n",
              "      <td>-0.828033</td>\n",
              "      <td>2.164397e-09</td>\n",
              "      <td>1.868217e-08</td>\n",
              "    </tr>\n",
              "    <tr>\n",
              "      <th>1475</th>\n",
              "      <td>8</td>\n",
              "      <td>rest</td>\n",
              "      <td>Dendritic cells</td>\n",
              "      <td>-8.699338</td>\n",
              "      <td>-2.958514</td>\n",
              "      <td>2.338414e-14</td>\n",
              "      <td>2.949999e-13</td>\n",
              "    </tr>\n",
              "  </tbody>\n",
              "</table>\n",
              "<p>1476 rows × 7 columns</p>\n",
              "</div>\n",
              "    <div class=\"colab-df-buttons\">\n",
              "\n",
              "  <div class=\"colab-df-container\">\n",
              "    <button class=\"colab-df-convert\" onclick=\"convertToInteractive('df-606df737-a271-44f0-afe5-591d63ccd953')\"\n",
              "            title=\"Convert this dataframe to an interactive table.\"\n",
              "            style=\"display:none;\">\n",
              "\n",
              "  <svg xmlns=\"http://www.w3.org/2000/svg\" height=\"24px\" viewBox=\"0 -960 960 960\">\n",
              "    <path d=\"M120-120v-720h720v720H120Zm60-500h600v-160H180v160Zm220 220h160v-160H400v160Zm0 220h160v-160H400v160ZM180-400h160v-160H180v160Zm440 0h160v-160H620v160ZM180-180h160v-160H180v160Zm440 0h160v-160H620v160Z\"/>\n",
              "  </svg>\n",
              "    </button>\n",
              "\n",
              "  <style>\n",
              "    .colab-df-container {\n",
              "      display:flex;\n",
              "      gap: 12px;\n",
              "    }\n",
              "\n",
              "    .colab-df-convert {\n",
              "      background-color: #E8F0FE;\n",
              "      border: none;\n",
              "      border-radius: 50%;\n",
              "      cursor: pointer;\n",
              "      display: none;\n",
              "      fill: #1967D2;\n",
              "      height: 32px;\n",
              "      padding: 0 0 0 0;\n",
              "      width: 32px;\n",
              "    }\n",
              "\n",
              "    .colab-df-convert:hover {\n",
              "      background-color: #E2EBFA;\n",
              "      box-shadow: 0px 1px 2px rgba(60, 64, 67, 0.3), 0px 1px 3px 1px rgba(60, 64, 67, 0.15);\n",
              "      fill: #174EA6;\n",
              "    }\n",
              "\n",
              "    .colab-df-buttons div {\n",
              "      margin-bottom: 4px;\n",
              "    }\n",
              "\n",
              "    [theme=dark] .colab-df-convert {\n",
              "      background-color: #3B4455;\n",
              "      fill: #D2E3FC;\n",
              "    }\n",
              "\n",
              "    [theme=dark] .colab-df-convert:hover {\n",
              "      background-color: #434B5C;\n",
              "      box-shadow: 0px 1px 3px 1px rgba(0, 0, 0, 0.15);\n",
              "      filter: drop-shadow(0px 1px 2px rgba(0, 0, 0, 0.3));\n",
              "      fill: #FFFFFF;\n",
              "    }\n",
              "  </style>\n",
              "\n",
              "    <script>\n",
              "      const buttonEl =\n",
              "        document.querySelector('#df-606df737-a271-44f0-afe5-591d63ccd953 button.colab-df-convert');\n",
              "      buttonEl.style.display =\n",
              "        google.colab.kernel.accessAllowed ? 'block' : 'none';\n",
              "\n",
              "      async function convertToInteractive(key) {\n",
              "        const element = document.querySelector('#df-606df737-a271-44f0-afe5-591d63ccd953');\n",
              "        const dataTable =\n",
              "          await google.colab.kernel.invokeFunction('convertToInteractive',\n",
              "                                                    [key], {});\n",
              "        if (!dataTable) return;\n",
              "\n",
              "        const docLinkHtml = 'Like what you see? Visit the ' +\n",
              "          '<a target=\"_blank\" href=https://colab.research.google.com/notebooks/data_table.ipynb>data table notebook</a>'\n",
              "          + ' to learn more about interactive tables.';\n",
              "        element.innerHTML = '';\n",
              "        dataTable['output_type'] = 'display_data';\n",
              "        await google.colab.output.renderOutput(dataTable, element);\n",
              "        const docLink = document.createElement('div');\n",
              "        docLink.innerHTML = docLinkHtml;\n",
              "        element.appendChild(docLink);\n",
              "      }\n",
              "    </script>\n",
              "  </div>\n",
              "\n",
              "\n",
              "<div id=\"df-6add62ee-aba2-4c84-8fae-3e9e260573b8\">\n",
              "  <button class=\"colab-df-quickchart\" onclick=\"quickchart('df-6add62ee-aba2-4c84-8fae-3e9e260573b8')\"\n",
              "            title=\"Suggest charts\"\n",
              "            style=\"display:none;\">\n",
              "\n",
              "<svg xmlns=\"http://www.w3.org/2000/svg\" height=\"24px\"viewBox=\"0 0 24 24\"\n",
              "     width=\"24px\">\n",
              "    <g>\n",
              "        <path d=\"M19 3H5c-1.1 0-2 .9-2 2v14c0 1.1.9 2 2 2h14c1.1 0 2-.9 2-2V5c0-1.1-.9-2-2-2zM9 17H7v-7h2v7zm4 0h-2V7h2v10zm4 0h-2v-4h2v4z\"/>\n",
              "    </g>\n",
              "</svg>\n",
              "  </button>\n",
              "\n",
              "<style>\n",
              "  .colab-df-quickchart {\n",
              "      --bg-color: #E8F0FE;\n",
              "      --fill-color: #1967D2;\n",
              "      --hover-bg-color: #E2EBFA;\n",
              "      --hover-fill-color: #174EA6;\n",
              "      --disabled-fill-color: #AAA;\n",
              "      --disabled-bg-color: #DDD;\n",
              "  }\n",
              "\n",
              "  [theme=dark] .colab-df-quickchart {\n",
              "      --bg-color: #3B4455;\n",
              "      --fill-color: #D2E3FC;\n",
              "      --hover-bg-color: #434B5C;\n",
              "      --hover-fill-color: #FFFFFF;\n",
              "      --disabled-bg-color: #3B4455;\n",
              "      --disabled-fill-color: #666;\n",
              "  }\n",
              "\n",
              "  .colab-df-quickchart {\n",
              "    background-color: var(--bg-color);\n",
              "    border: none;\n",
              "    border-radius: 50%;\n",
              "    cursor: pointer;\n",
              "    display: none;\n",
              "    fill: var(--fill-color);\n",
              "    height: 32px;\n",
              "    padding: 0;\n",
              "    width: 32px;\n",
              "  }\n",
              "\n",
              "  .colab-df-quickchart:hover {\n",
              "    background-color: var(--hover-bg-color);\n",
              "    box-shadow: 0 1px 2px rgba(60, 64, 67, 0.3), 0 1px 3px 1px rgba(60, 64, 67, 0.15);\n",
              "    fill: var(--button-hover-fill-color);\n",
              "  }\n",
              "\n",
              "  .colab-df-quickchart-complete:disabled,\n",
              "  .colab-df-quickchart-complete:disabled:hover {\n",
              "    background-color: var(--disabled-bg-color);\n",
              "    fill: var(--disabled-fill-color);\n",
              "    box-shadow: none;\n",
              "  }\n",
              "\n",
              "  .colab-df-spinner {\n",
              "    border: 2px solid var(--fill-color);\n",
              "    border-color: transparent;\n",
              "    border-bottom-color: var(--fill-color);\n",
              "    animation:\n",
              "      spin 1s steps(1) infinite;\n",
              "  }\n",
              "\n",
              "  @keyframes spin {\n",
              "    0% {\n",
              "      border-color: transparent;\n",
              "      border-bottom-color: var(--fill-color);\n",
              "      border-left-color: var(--fill-color);\n",
              "    }\n",
              "    20% {\n",
              "      border-color: transparent;\n",
              "      border-left-color: var(--fill-color);\n",
              "      border-top-color: var(--fill-color);\n",
              "    }\n",
              "    30% {\n",
              "      border-color: transparent;\n",
              "      border-left-color: var(--fill-color);\n",
              "      border-top-color: var(--fill-color);\n",
              "      border-right-color: var(--fill-color);\n",
              "    }\n",
              "    40% {\n",
              "      border-color: transparent;\n",
              "      border-right-color: var(--fill-color);\n",
              "      border-top-color: var(--fill-color);\n",
              "    }\n",
              "    60% {\n",
              "      border-color: transparent;\n",
              "      border-right-color: var(--fill-color);\n",
              "    }\n",
              "    80% {\n",
              "      border-color: transparent;\n",
              "      border-right-color: var(--fill-color);\n",
              "      border-bottom-color: var(--fill-color);\n",
              "    }\n",
              "    90% {\n",
              "      border-color: transparent;\n",
              "      border-bottom-color: var(--fill-color);\n",
              "    }\n",
              "  }\n",
              "</style>\n",
              "\n",
              "  <script>\n",
              "    async function quickchart(key) {\n",
              "      const quickchartButtonEl =\n",
              "        document.querySelector('#' + key + ' button');\n",
              "      quickchartButtonEl.disabled = true;  // To prevent multiple clicks.\n",
              "      quickchartButtonEl.classList.add('colab-df-spinner');\n",
              "      try {\n",
              "        const charts = await google.colab.kernel.invokeFunction(\n",
              "            'suggestCharts', [key], {});\n",
              "      } catch (error) {\n",
              "        console.error('Error during call to suggestCharts:', error);\n",
              "      }\n",
              "      quickchartButtonEl.classList.remove('colab-df-spinner');\n",
              "      quickchartButtonEl.classList.add('colab-df-quickchart-complete');\n",
              "    }\n",
              "    (() => {\n",
              "      let quickchartButtonEl =\n",
              "        document.querySelector('#df-6add62ee-aba2-4c84-8fae-3e9e260573b8 button');\n",
              "      quickchartButtonEl.style.display =\n",
              "        google.colab.kernel.accessAllowed ? 'block' : 'none';\n",
              "    })();\n",
              "  </script>\n",
              "</div>\n",
              "\n",
              "  <div id=\"id_d89fd224-5141-4509-ad17-3ff4bfd3f91f\">\n",
              "    <style>\n",
              "      .colab-df-generate {\n",
              "        background-color: #E8F0FE;\n",
              "        border: none;\n",
              "        border-radius: 50%;\n",
              "        cursor: pointer;\n",
              "        display: none;\n",
              "        fill: #1967D2;\n",
              "        height: 32px;\n",
              "        padding: 0 0 0 0;\n",
              "        width: 32px;\n",
              "      }\n",
              "\n",
              "      .colab-df-generate:hover {\n",
              "        background-color: #E2EBFA;\n",
              "        box-shadow: 0px 1px 2px rgba(60, 64, 67, 0.3), 0px 1px 3px 1px rgba(60, 64, 67, 0.15);\n",
              "        fill: #174EA6;\n",
              "      }\n",
              "\n",
              "      [theme=dark] .colab-df-generate {\n",
              "        background-color: #3B4455;\n",
              "        fill: #D2E3FC;\n",
              "      }\n",
              "\n",
              "      [theme=dark] .colab-df-generate:hover {\n",
              "        background-color: #434B5C;\n",
              "        box-shadow: 0px 1px 3px 1px rgba(0, 0, 0, 0.15);\n",
              "        filter: drop-shadow(0px 1px 2px rgba(0, 0, 0, 0.3));\n",
              "        fill: #FFFFFF;\n",
              "      }\n",
              "    </style>\n",
              "    <button class=\"colab-df-generate\" onclick=\"generateWithVariable('df_decoupler')\"\n",
              "            title=\"Generate code using this dataframe.\"\n",
              "            style=\"display:none;\">\n",
              "\n",
              "  <svg xmlns=\"http://www.w3.org/2000/svg\" height=\"24px\"viewBox=\"0 0 24 24\"\n",
              "       width=\"24px\">\n",
              "    <path d=\"M7,19H8.4L18.45,9,17,7.55,7,17.6ZM5,21V16.75L18.45,3.32a2,2,0,0,1,2.83,0l1.4,1.43a1.91,1.91,0,0,1,.58,1.4,1.91,1.91,0,0,1-.58,1.4L9.25,21ZM18.45,9,17,7.55Zm-12,3A5.31,5.31,0,0,0,4.9,8.1,5.31,5.31,0,0,0,1,6.5,5.31,5.31,0,0,0,4.9,4.9,5.31,5.31,0,0,0,6.5,1,5.31,5.31,0,0,0,8.1,4.9,5.31,5.31,0,0,0,12,6.5,5.46,5.46,0,0,0,6.5,12Z\"/>\n",
              "  </svg>\n",
              "    </button>\n",
              "    <script>\n",
              "      (() => {\n",
              "      const buttonEl =\n",
              "        document.querySelector('#id_d89fd224-5141-4509-ad17-3ff4bfd3f91f button.colab-df-generate');\n",
              "      buttonEl.style.display =\n",
              "        google.colab.kernel.accessAllowed ? 'block' : 'none';\n",
              "\n",
              "      buttonEl.onclick = () => {\n",
              "        google.colab.notebook.generateWithVariable('df_decoupler');\n",
              "      }\n",
              "      })();\n",
              "    </script>\n",
              "  </div>\n",
              "\n",
              "    </div>\n",
              "  </div>\n"
            ],
            "application/vnd.google.colaboratory.intrinsic+json": {
              "type": "dataframe",
              "variable_name": "df_decoupler",
              "summary": "{\n  \"name\": \"df_decoupler\",\n  \"rows\": 1476,\n  \"fields\": [\n    {\n      \"column\": \"group\",\n      \"properties\": {\n        \"dtype\": \"category\",\n        \"num_unique_values\": 9,\n        \"samples\": [\n          \"7\",\n          \"1\",\n          \"5\"\n        ],\n        \"semantic_type\": \"\",\n        \"description\": \"\"\n      }\n    },\n    {\n      \"column\": \"reference\",\n      \"properties\": {\n        \"dtype\": \"category\",\n        \"num_unique_values\": 1,\n        \"samples\": [\n          \"rest\"\n        ],\n        \"semantic_type\": \"\",\n        \"description\": \"\"\n      }\n    },\n    {\n      \"column\": \"names\",\n      \"properties\": {\n        \"dtype\": \"category\",\n        \"num_unique_values\": 164,\n        \"samples\": [\n          \"B cells naive\"\n        ],\n        \"semantic_type\": \"\",\n        \"description\": \"\"\n      }\n    },\n    {\n      \"column\": \"statistic\",\n      \"properties\": {\n        \"dtype\": \"number\",\n        \"std\": 6.378496534209623,\n        \"min\": -22.022911218924893,\n        \"max\": 45.99793204546513,\n        \"num_unique_values\": 1476,\n        \"samples\": [\n          -6.270346296123581\n        ],\n        \"semantic_type\": \"\",\n        \"description\": \"\"\n      }\n    },\n    {\n      \"column\": \"meanchange\",\n      \"properties\": {\n        \"dtype\": \"float32\",\n        \"num_unique_values\": 1476,\n        \"samples\": [\n          -0.22659903764724731\n        ],\n        \"semantic_type\": \"\",\n        \"description\": \"\"\n      }\n    },\n    {\n      \"column\": \"pvals\",\n      \"properties\": {\n        \"dtype\": \"number\",\n        \"std\": 0.26062899105833026,\n        \"min\": 5.752889753193147e-159,\n        \"max\": 0.9953312846335339,\n        \"num_unique_values\": 1476,\n        \"samples\": [\n          1.0063932149626656e-09\n        ],\n        \"semantic_type\": \"\",\n        \"description\": \"\"\n      }\n    },\n    {\n      \"column\": \"pvals_adj\",\n      \"properties\": {\n        \"dtype\": \"number\",\n        \"std\": 0.27924219179478676,\n        \"min\": 9.434739195236761e-157,\n        \"max\": 0.9953312846335339,\n        \"num_unique_values\": 1309,\n        \"samples\": [\n          1.1359099346962486e-05\n        ],\n        \"semantic_type\": \"\",\n        \"description\": \"\"\n      }\n    }\n  ]\n}"
            }
          },
          "metadata": {},
          "execution_count": 70
        }
      ]
    },
    {
      "cell_type": "code",
      "source": [
        "# Get top predicted cell type for each cluster\n",
        "annotation_dict = df_decoupler.groupby('group').head(1).set_index('group')['names'].to_dict()"
      ],
      "metadata": {
        "id": "NzP6Xc4DOx_H"
      },
      "execution_count": null,
      "outputs": []
    },
    {
      "cell_type": "code",
      "source": [
        "# Annotate cells\n",
        "adata_decoupler.obs['cell_type'] = [annotation_dict[clust] for clust in adata_decoupler.obs['leiden']]"
      ],
      "metadata": {
        "id": "WDLpnEzgPI9r"
      },
      "execution_count": null,
      "outputs": []
    },
    {
      "cell_type": "code",
      "source": [
        "# Visualize results\n",
        "sc.pl.umap(adata_decoupler, color='cell_type')"
      ],
      "metadata": {
        "id": "L31LSL5UW44X",
        "colab": {
          "base_uri": "https://localhost:8080/",
          "height": 448
        },
        "outputId": "886813f4-56ee-4372-ff48-fcc6eea9cf96"
      },
      "execution_count": null,
      "outputs": [
        {
          "output_type": "display_data",
          "data": {
            "text/plain": [
              "<Figure size 640x480 with 1 Axes>"
            ],
            "image/png": "[encoded data removed]"
          },
          "metadata": {}
        }
      ]
    },
    {
      "cell_type": "markdown",
      "source": [
        "## CellO"
      ],
      "metadata": {
        "id": "LdrSO7sPXhej"
      }
    },
    {
      "cell_type": "code",
      "source": [
        "adata_CellO=  adata_clustered.copy()"
      ],
      "metadata": {
        "id": "s8fvqWCTYVfJ"
      },
      "execution_count": null,
      "outputs": []
    },
    {
      "cell_type": "code",
      "source": [
        "# Graphvizの依存関係をインストール\n",
        "!apt-get install -y graphviz graphviz-dev"
      ],
      "metadata": {
        "id": "8a9EjFKUfVqt"
      },
      "execution_count": null,
      "outputs": []
    },
    {
      "cell_type": "code",
      "source": [
        "!pip install pygraphviz leidenalg scanpy cello-classify\n",
        "!curl -O ftp://ftp.ncbi.nlm.nih.gov/geo/samples/GSM3516nnn/GSM3516673/suppl/GSM3516673_MSK_LX682_NORMAL_dense.csv.gz"
      ],
      "metadata": {
        "id": "3lq0TE8mXj1f"
      },
      "execution_count": null,
      "outputs": []
    },
    {
      "cell_type": "code",
      "source": [
        "import cello\n",
        "import os"
      ],
      "metadata": {
        "id": "N9cS-8ZbYoo3"
      },
      "execution_count": null,
      "outputs": []
    },
    {
      "cell_type": "code",
      "source": [
        "# cello.normalize_and_cluster(adata_CellO, n_pca_components=50, n_neighbors=15, n_top_genes=10000, cluster_res=2.0)"
      ],
      "metadata": {
        "id": "JAa3YLtcXvEK"
      },
      "execution_count": null,
      "outputs": []
    },
    {
      "cell_type": "code",
      "source": [
        "# CellOのリソースの場所を指定\n",
        "cello_resource_loc = os.getcwd()"
      ],
      "metadata": {
        "id": "_VGkxa0815kO"
      },
      "execution_count": null,
      "outputs": []
    },
    {
      "cell_type": "code",
      "source": [
        "# クラスタリングと分類\n",
        "model_prefix = 'GSM3516673_MSK_LX682_NORMAL'  # モデルのファイルプレフィックス\n",
        "cello.scanpy_cello(\n",
        "    adata_CellO,\n",
        "    clust_key='leiden',  # カスタムクラスタリングを使用する場合はこの部分を変更\n",
        "    rsrc_loc=cello_resource_loc,\n",
        "    out_prefix=model_prefix,\n",
        "    log_dir=os.getcwd()\n",
        ")"
      ],
      "metadata": {
        "id": "TqPwGItq17sA"
      },
      "execution_count": null,
      "outputs": []
    },
    {
      "cell_type": "code",
      "source": [
        "# UMAPの計算\n",
        "sc.tl.umap(adata_CellO)\n",
        "\n",
        "# UMAPプロットを作成（クラスターごとに色分け）\n",
        "sc.pl.umap(adata_CellO, color='leiden', title='Clusters')"
      ],
      "metadata": {
        "id": "6GNvK7ex2Kt0"
      },
      "execution_count": null,
      "outputs": []
    },
    {
      "cell_type": "code",
      "source": [
        "# 最も特異な予測細胞型で色分けされたUMAPプロットを作成\n",
        "sc.pl.umap(adata_CellO, color='Most specific cell type')"
      ],
      "metadata": {
        "id": "gD7sb_382MTx"
      },
      "execution_count": null,
      "outputs": []
    },
    {
      "cell_type": "code",
      "source": [
        "# T細胞である確率に基づいて色分けされたUMAPプロットを作成\n",
        "sc.pl.umap(adata_CellO, color='T cell (probability)', vmin=0.0, vmax=1.0)"
      ],
      "metadata": {
        "id": "O4eBJuSe2QBK"
      },
      "execution_count": null,
      "outputs": []
    },
    {
      "cell_type": "code",
      "source": [
        "# T細胞であるかどうかに基づいて色分けされたUMAPプロットを作成\n",
        "sc.pl.umap(adata_CellO, color='T cell (binary)')"
      ],
      "metadata": {
        "id": "MATFRWdkc2tE"
      },
      "execution_count": null,
      "outputs": []
    },
    {
      "cell_type": "markdown",
      "source": [
        "## scBERT"
      ],
      "metadata": {
        "id": "3Ot3x-G0_ZLe"
      }
    },
    {
      "cell_type": "code",
      "source": [
        "!git clone https://github.com/TencentAILabHealthcare/scBERT.git\n",
        "!cd scBERT\n",
        "!pip install -r requirements.txt"
      ],
      "metadata": {
        "id": "fP0LW3HU_a2K"
      },
      "execution_count": null,
      "outputs": []
    },
    {
      "cell_type": "code",
      "source": [
        "import torch\n",
        "from scBERT import scBERTModel, process_data"
      ],
      "metadata": {
        "id": "Lq4KS2dRAEuy"
      },
      "execution_count": null,
      "outputs": []
    },
    {
      "cell_type": "markdown",
      "source": [
        "# 要検討"
      ],
      "metadata": {
        "id": "VAH9rnfEDxLJ"
      }
    },
    {
      "cell_type": "markdown",
      "source": [
        "## scanpyのfillter"
      ],
      "metadata": {
        "id": "J1caCOtCD0Cp"
      }
    },
    {
      "cell_type": "code",
      "source": [
        "sc.pp.filter_cells(adata, min_genes=200)\n",
        "sc.pp.filter_genes(adata, min_cells=3)"
      ],
      "metadata": {
        "id": "WEhsOGv0DyBr"
      },
      "execution_count": null,
      "outputs": []
    },
    {
      "cell_type": "code",
      "source": [],
      "metadata": {
        "id": "HJG2YqTKkf6e"
      },
      "execution_count": null,
      "outputs": []
    }
  ]
}